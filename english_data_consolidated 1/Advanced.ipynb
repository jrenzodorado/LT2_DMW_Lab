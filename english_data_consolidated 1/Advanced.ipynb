{
 "cells": [
  {
   "cell_type": "code",
   "execution_count": 2,
   "id": "e658ae8e-f838-4a6d-b4f6-e56252588498",
   "metadata": {
    "execution": {
     "iopub.execute_input": "2024-05-14T15:08:12.583491Z",
     "iopub.status.busy": "2024-05-14T15:08:12.582971Z",
     "iopub.status.idle": "2024-05-14T15:08:13.855604Z",
     "shell.execute_reply": "2024-05-14T15:08:13.854768Z",
     "shell.execute_reply.started": "2024-05-14T15:08:12.583443Z"
    }
   },
   "outputs": [],
   "source": [
    "import pandas as pd\n",
    "import matplotlib.pyplot as plt\n",
    "import seaborn as sns\n",
    "import os"
   ]
  },
  {
   "attachments": {},
   "cell_type": "markdown",
   "id": "fd5b3c16-f28e-4b06-94ac-5819622adc49",
   "metadata": {},
   "source": [
    "## Advanced Goals (Report)\n",
    "\n",
    "    1.) Get the degrees of separation for 1000 random pages. Find the median degree of separation as well as the distribution.\n",
    "    \n",
    "    2.) Considering your results, and the size of the English Wikipedia, estimate how many pages there are of degree 6.\n",
    "    \n",
    "    3.) Try a foreign language Wikipedia. Following the same rules above, determine the network structure. \n",
    "    Is there is a page a page that all others tend to lead back to? \n",
    "    Does it tend to loop more? \n",
    "    In any case, are the degrees generally shorter/longer?"
   ]
  },
  {
   "cell_type": "markdown",
   "id": "e9bb6383-c793-48b1-bfc3-7c6f5467f142",
   "metadata": {},
   "source": [
    "# Loading the data"
   ]
  },
  {
   "cell_type": "code",
   "execution_count": 10,
   "id": "ebb2c074-db8c-4fca-9ad3-f288983e8368",
   "metadata": {
    "execution": {
     "iopub.execute_input": "2024-05-14T15:08:14.530379Z",
     "iopub.status.busy": "2024-05-14T15:08:14.529865Z",
     "iopub.status.idle": "2024-05-14T15:08:14.576985Z",
     "shell.execute_reply": "2024-05-14T15:08:14.576094Z",
     "shell.execute_reply.started": "2024-05-14T15:08:14.530337Z"
    }
   },
   "outputs": [
    {
     "data": {
      "text/plain": [
       "(2299, 4)"
      ]
     },
     "metadata": {},
     "output_type": "display_data"
    },
    {
     "data": {
      "text/html": [
       "<div>\n",
       "<style scoped>\n",
       "    .dataframe tbody tr th:only-of-type {\n",
       "        vertical-align: middle;\n",
       "    }\n",
       "\n",
       "    .dataframe tbody tr th {\n",
       "        vertical-align: top;\n",
       "    }\n",
       "\n",
       "    .dataframe thead th {\n",
       "        text-align: right;\n",
       "    }\n",
       "</style>\n",
       "<table border=\"1\" class=\"dataframe\">\n",
       "  <thead>\n",
       "    <tr style=\"text-align: right;\">\n",
       "      <th></th>\n",
       "      <th>Start</th>\n",
       "      <th>DoS</th>\n",
       "      <th>Path</th>\n",
       "      <th>Msg</th>\n",
       "    </tr>\n",
       "  </thead>\n",
       "  <tbody>\n",
       "    <tr>\n",
       "      <th>0</th>\n",
       "      <td>/wiki/Sibon_ayerbeorum</td>\n",
       "      <td>17.0</td>\n",
       "      <td>['https://en.wikipedia.org/wiki/Sibon_ayerbeor...</td>\n",
       "      <td>NaN</td>\n",
       "    </tr>\n",
       "    <tr>\n",
       "      <th>1</th>\n",
       "      <td>/wiki/William_Kassebaum</td>\n",
       "      <td>10.0</td>\n",
       "      <td>['https://en.wikipedia.org/wiki/William_Kasseb...</td>\n",
       "      <td>NaN</td>\n",
       "    </tr>\n",
       "    <tr>\n",
       "      <th>2</th>\n",
       "      <td>/wiki/Miss_Bonaire</td>\n",
       "      <td>21.0</td>\n",
       "      <td>['https://en.wikipedia.org/wiki/Miss_Bonaire',...</td>\n",
       "      <td>NaN</td>\n",
       "    </tr>\n",
       "    <tr>\n",
       "      <th>3</th>\n",
       "      <td>/wiki/Eric_Curry</td>\n",
       "      <td>24.0</td>\n",
       "      <td>['https://en.wikipedia.org/wiki/Eric_Curry', '...</td>\n",
       "      <td>NaN</td>\n",
       "    </tr>\n",
       "    <tr>\n",
       "      <th>4</th>\n",
       "      <td>/wiki/1955_Nauruan_Local_Government_Council_el...</td>\n",
       "      <td>20.0</td>\n",
       "      <td>['https://en.wikipedia.org/wiki/1955_Nauruan_L...</td>\n",
       "      <td>NaN</td>\n",
       "    </tr>\n",
       "  </tbody>\n",
       "</table>\n",
       "</div>"
      ],
      "text/plain": [
       "                                               Start   DoS  \\\n",
       "0                             /wiki/Sibon_ayerbeorum  17.0   \n",
       "1                            /wiki/William_Kassebaum  10.0   \n",
       "2                                 /wiki/Miss_Bonaire  21.0   \n",
       "3                                   /wiki/Eric_Curry  24.0   \n",
       "4  /wiki/1955_Nauruan_Local_Government_Council_el...  20.0   \n",
       "\n",
       "                                                Path  Msg  \n",
       "0  ['https://en.wikipedia.org/wiki/Sibon_ayerbeor...  NaN  \n",
       "1  ['https://en.wikipedia.org/wiki/William_Kasseb...  NaN  \n",
       "2  ['https://en.wikipedia.org/wiki/Miss_Bonaire',...  NaN  \n",
       "3  ['https://en.wikipedia.org/wiki/Eric_Curry', '...  NaN  \n",
       "4  ['https://en.wikipedia.org/wiki/1955_Nauruan_L...  NaN  "
      ]
     },
     "execution_count": 10,
     "metadata": {},
     "output_type": "execute_result"
    }
   ],
   "source": [
    "# Path to the folder containing the CSV files\n",
    "folder_path = 'en_conso'\n",
    "\n",
    "# List to hold individual DataFrames\n",
    "dfs = []\n",
    "\n",
    "# Loop through each file in the folder\n",
    "for filename in os.listdir(folder_path):\n",
    "    if filename.endswith('.csv'):\n",
    "        # Read the CSV file into a DataFrame\n",
    "        file_path = os.path.join(folder_path, filename)\n",
    "        df = pd.read_csv(file_path)\n",
    "        \n",
    "        # Append the DataFrame to the list\n",
    "        dfs.append(df)\n",
    "\n",
    "df = pd.concat(dfs, ignore_index=True)\n",
    "df = df.drop_duplicates()\n",
    "del dfs\n",
    "display(df.shape)\n",
    "df.head()"
   ]
  },
  {
   "cell_type": "markdown",
   "id": "ce02864c-2056-44ad-8d95-4e3552bc1da2",
   "metadata": {},
   "source": [
    "# Plotting the distribution of Degrees of Separation"
   ]
  },
  {
   "cell_type": "code",
   "execution_count": 11,
   "id": "a43d5dfb-0450-4d3e-aa33-8f8dba14c05f",
   "metadata": {
    "execution": {
     "iopub.execute_input": "2024-05-14T15:08:21.209614Z",
     "iopub.status.busy": "2024-05-14T15:08:21.209022Z",
     "iopub.status.idle": "2024-05-14T15:08:21.495009Z",
     "shell.execute_reply": "2024-05-14T15:08:21.494163Z",
     "shell.execute_reply.started": "2024-05-14T15:08:21.209564Z"
    }
   },
   "outputs": [
    {
     "data": {
      "image/png": "[encoded data removed]",
      "text/plain": [
       "<Figure size 640x480 with 1 Axes>"
      ]
     },
     "metadata": {},
     "output_type": "display_data"
    }
   ],
   "source": [
    "df['DoS'].plot(kind=\"hist\", bins=20);"
   ]
  },
  {
   "cell_type": "markdown",
   "id": "d9843412-d68a-4c0b-b675-3272dd6a31e8",
   "metadata": {},
   "source": [
    "# Median of the DoS"
   ]
  },
  {
   "cell_type": "code",
   "execution_count": 12,
   "id": "e2cf7379-8a6d-4ac8-a05f-70e350e728d0",
   "metadata": {
    "execution": {
     "iopub.execute_input": "2024-05-14T15:08:23.508781Z",
     "iopub.status.busy": "2024-05-14T15:08:23.508247Z",
     "iopub.status.idle": "2024-05-14T15:08:23.514972Z",
     "shell.execute_reply": "2024-05-14T15:08:23.513893Z",
     "shell.execute_reply.started": "2024-05-14T15:08:23.508733Z"
    }
   },
   "outputs": [
    {
     "data": {
      "text/plain": [
       "17.0"
      ]
     },
     "metadata": {},
     "output_type": "display_data"
    }
   ],
   "source": [
    "display(df['DoS'].median())"
   ]
  },
  {
   "cell_type": "markdown",
   "id": "f5d1c37a-4969-4656-a3cb-a9f7e23e1b72",
   "metadata": {},
   "source": [
    "# Percentage of DoS=6"
   ]
  },
  {
   "cell_type": "code",
   "execution_count": 13,
   "id": "85cdcdc6-a629-4556-bb01-02295caca3ac",
   "metadata": {
    "execution": {
     "iopub.execute_input": "2024-05-14T15:08:28.393298Z",
     "iopub.status.busy": "2024-05-14T15:08:28.392762Z",
     "iopub.status.idle": "2024-05-14T15:08:28.414920Z",
     "shell.execute_reply": "2024-05-14T15:08:28.413381Z",
     "shell.execute_reply.started": "2024-05-14T15:08:28.393249Z"
    }
   },
   "outputs": [
    {
     "data": {
      "text/html": [
       "<div>\n",
       "<style scoped>\n",
       "    .dataframe tbody tr th:only-of-type {\n",
       "        vertical-align: middle;\n",
       "    }\n",
       "\n",
       "    .dataframe tbody tr th {\n",
       "        vertical-align: top;\n",
       "    }\n",
       "\n",
       "    .dataframe thead th {\n",
       "        text-align: right;\n",
       "    }\n",
       "</style>\n",
       "<table border=\"1\" class=\"dataframe\">\n",
       "  <thead>\n",
       "    <tr style=\"text-align: right;\">\n",
       "      <th></th>\n",
       "      <th>Start</th>\n",
       "      <th>DoS</th>\n",
       "      <th>Path</th>\n",
       "      <th>Msg</th>\n",
       "    </tr>\n",
       "  </thead>\n",
       "  <tbody>\n",
       "    <tr>\n",
       "      <th>35</th>\n",
       "      <td>/wiki/Simplicial_commutative_ring</td>\n",
       "      <td>6.0</td>\n",
       "      <td>['https://en.wikipedia.org/wiki/Simplicial_com...</td>\n",
       "      <td>NaN</td>\n",
       "    </tr>\n",
       "    <tr>\n",
       "      <th>151</th>\n",
       "      <td>/wiki/Tosio_Kato</td>\n",
       "      <td>6.0</td>\n",
       "      <td>['https://en.wikipedia.org/wiki/Tosio_Kato', '...</td>\n",
       "      <td>NaN</td>\n",
       "    </tr>\n",
       "    <tr>\n",
       "      <th>249</th>\n",
       "      <td>/wiki/Being_There_(novel)</td>\n",
       "      <td>6.0</td>\n",
       "      <td>['https://en.wikipedia.org/wiki/Being_There_(n...</td>\n",
       "      <td>NaN</td>\n",
       "    </tr>\n",
       "    <tr>\n",
       "      <th>413</th>\n",
       "      <td>/wiki/Double_wedge</td>\n",
       "      <td>6.0</td>\n",
       "      <td>['https://en.wikipedia.org/wiki/Double_wedge',...</td>\n",
       "      <td>NaN</td>\n",
       "    </tr>\n",
       "    <tr>\n",
       "      <th>460</th>\n",
       "      <td>/wiki/Pregaussian_class</td>\n",
       "      <td>6.0</td>\n",
       "      <td>['https://en.wikipedia.org/wiki/Pregaussian_cl...</td>\n",
       "      <td>NaN</td>\n",
       "    </tr>\n",
       "    <tr>\n",
       "      <th>646</th>\n",
       "      <td>/wiki/Dehn_plane</td>\n",
       "      <td>6.0</td>\n",
       "      <td>['https://en.wikipedia.org/wiki/Dehn_plane', '...</td>\n",
       "      <td>NaN</td>\n",
       "    </tr>\n",
       "    <tr>\n",
       "      <th>654</th>\n",
       "      <td>/wiki/Alfred_Proksch_(politician)</td>\n",
       "      <td>6.0</td>\n",
       "      <td>['https://en.wikipedia.org/wiki/Alfred_Proksch...</td>\n",
       "      <td>NaN</td>\n",
       "    </tr>\n",
       "    <tr>\n",
       "      <th>664</th>\n",
       "      <td>/wiki/Johannes_Runnenburg</td>\n",
       "      <td>6.0</td>\n",
       "      <td>['https://en.wikipedia.org/wiki/Johannes_Runne...</td>\n",
       "      <td>NaN</td>\n",
       "    </tr>\n",
       "    <tr>\n",
       "      <th>721</th>\n",
       "      <td>/wiki/Algorithmic_paradigm</td>\n",
       "      <td>6.0</td>\n",
       "      <td>['https://en.wikipedia.org/wiki/Algorithmic_pa...</td>\n",
       "      <td>NaN</td>\n",
       "    </tr>\n",
       "    <tr>\n",
       "      <th>731</th>\n",
       "      <td>/wiki/Observation_balloon</td>\n",
       "      <td>6.0</td>\n",
       "      <td>['https://en.wikipedia.org/wiki/Observation_ba...</td>\n",
       "      <td>NaN</td>\n",
       "    </tr>\n",
       "    <tr>\n",
       "      <th>776</th>\n",
       "      <td>/wiki/Basanta_Kumar_Sahu</td>\n",
       "      <td>6.0</td>\n",
       "      <td>['https://en.wikipedia.org/wiki/Basanta_Kumar_...</td>\n",
       "      <td>NaN</td>\n",
       "    </tr>\n",
       "    <tr>\n",
       "      <th>991</th>\n",
       "      <td>/wiki/International_Journal_of_Occupational_an...</td>\n",
       "      <td>6.0</td>\n",
       "      <td>['https://en.wikipedia.org/wiki/International_...</td>\n",
       "      <td>NaN</td>\n",
       "    </tr>\n",
       "    <tr>\n",
       "      <th>1205</th>\n",
       "      <td>/wiki/Miscellanea_Malacologica</td>\n",
       "      <td>6.0</td>\n",
       "      <td>['https://en.wikipedia.org/wiki/Miscellanea_Ma...</td>\n",
       "      <td>OK - short path at /wiki/Knowledge (last idx: 3).</td>\n",
       "    </tr>\n",
       "    <tr>\n",
       "      <th>1208</th>\n",
       "      <td>/wiki/Journal_of_Medical_Ethics</td>\n",
       "      <td>6.0</td>\n",
       "      <td>['https://en.wikipedia.org/wiki/Journal_of_Med...</td>\n",
       "      <td>OK - short path at /wiki/Field_of_study (last ...</td>\n",
       "    </tr>\n",
       "    <tr>\n",
       "      <th>1827</th>\n",
       "      <td>/wiki/Carden-Baynes_Bee</td>\n",
       "      <td>6.0</td>\n",
       "      <td>['https://en.wikipedia.org/wiki/Carden-Baynes_...</td>\n",
       "      <td>OK - short path at /wiki/Process (last idx: 4).</td>\n",
       "    </tr>\n",
       "    <tr>\n",
       "      <th>2021</th>\n",
       "      <td>/wiki/Flavobacterium_branchiicola</td>\n",
       "      <td>6.0</td>\n",
       "      <td>['https://en.wikipedia.org/wiki/Flavobacterium...</td>\n",
       "      <td>OK - normal path.</td>\n",
       "    </tr>\n",
       "  </tbody>\n",
       "</table>\n",
       "</div>"
      ],
      "text/plain": [
       "                                                  Start  DoS  \\\n",
       "35                    /wiki/Simplicial_commutative_ring  6.0   \n",
       "151                                    /wiki/Tosio_Kato  6.0   \n",
       "249                           /wiki/Being_There_(novel)  6.0   \n",
       "413                                  /wiki/Double_wedge  6.0   \n",
       "460                             /wiki/Pregaussian_class  6.0   \n",
       "646                                    /wiki/Dehn_plane  6.0   \n",
       "654                   /wiki/Alfred_Proksch_(politician)  6.0   \n",
       "664                           /wiki/Johannes_Runnenburg  6.0   \n",
       "721                          /wiki/Algorithmic_paradigm  6.0   \n",
       "731                           /wiki/Observation_balloon  6.0   \n",
       "776                            /wiki/Basanta_Kumar_Sahu  6.0   \n",
       "991   /wiki/International_Journal_of_Occupational_an...  6.0   \n",
       "1205                     /wiki/Miscellanea_Malacologica  6.0   \n",
       "1208                    /wiki/Journal_of_Medical_Ethics  6.0   \n",
       "1827                            /wiki/Carden-Baynes_Bee  6.0   \n",
       "2021                  /wiki/Flavobacterium_branchiicola  6.0   \n",
       "\n",
       "                                                   Path  \\\n",
       "35    ['https://en.wikipedia.org/wiki/Simplicial_com...   \n",
       "151   ['https://en.wikipedia.org/wiki/Tosio_Kato', '...   \n",
       "249   ['https://en.wikipedia.org/wiki/Being_There_(n...   \n",
       "413   ['https://en.wikipedia.org/wiki/Double_wedge',...   \n",
       "460   ['https://en.wikipedia.org/wiki/Pregaussian_cl...   \n",
       "646   ['https://en.wikipedia.org/wiki/Dehn_plane', '...   \n",
       "654   ['https://en.wikipedia.org/wiki/Alfred_Proksch...   \n",
       "664   ['https://en.wikipedia.org/wiki/Johannes_Runne...   \n",
       "721   ['https://en.wikipedia.org/wiki/Algorithmic_pa...   \n",
       "731   ['https://en.wikipedia.org/wiki/Observation_ba...   \n",
       "776   ['https://en.wikipedia.org/wiki/Basanta_Kumar_...   \n",
       "991   ['https://en.wikipedia.org/wiki/International_...   \n",
       "1205  ['https://en.wikipedia.org/wiki/Miscellanea_Ma...   \n",
       "1208  ['https://en.wikipedia.org/wiki/Journal_of_Med...   \n",
       "1827  ['https://en.wikipedia.org/wiki/Carden-Baynes_...   \n",
       "2021  ['https://en.wikipedia.org/wiki/Flavobacterium...   \n",
       "\n",
       "                                                    Msg  \n",
       "35                                                  NaN  \n",
       "151                                                 NaN  \n",
       "249                                                 NaN  \n",
       "413                                                 NaN  \n",
       "460                                                 NaN  \n",
       "646                                                 NaN  \n",
       "654                                                 NaN  \n",
       "664                                                 NaN  \n",
       "721                                                 NaN  \n",
       "731                                                 NaN  \n",
       "776                                                 NaN  \n",
       "991                                                 NaN  \n",
       "1205  OK - short path at /wiki/Knowledge (last idx: 3).  \n",
       "1208  OK - short path at /wiki/Field_of_study (last ...  \n",
       "1827    OK - short path at /wiki/Process (last idx: 4).  \n",
       "2021                                  OK - normal path.  "
      ]
     },
     "execution_count": 13,
     "metadata": {},
     "output_type": "execute_result"
    }
   ],
   "source": [
    "df.query('DoS == 6')"
   ]
  },
  {
   "cell_type": "code",
   "execution_count": 18,
   "id": "4ff05840-4334-4322-8f56-de38bd72b6b5",
   "metadata": {
    "execution": {
     "iopub.execute_input": "2024-05-14T15:08:52.968569Z",
     "iopub.status.busy": "2024-05-14T15:08:52.968023Z",
     "iopub.status.idle": "2024-05-14T15:08:52.980414Z",
     "shell.execute_reply": "2024-05-14T15:08:52.979148Z",
     "shell.execute_reply.started": "2024-05-14T15:08:52.968522Z"
    }
   },
   "outputs": [
    {
     "name": "stdout",
     "output_type": "stream",
     "text": [
      "0.7% of our sample has DoS = 6.\n"
     ]
    }
   ],
   "source": [
    "pct_dos6 = len(df.query('DoS == 6')) / len(df) * 100\n",
    "print(f\"{round(pct_dos6, 2)}% of our sample has DoS = 6.\")"
   ]
  },
  {
   "cell_type": "markdown",
   "id": "598cece0-5717-4de4-8baf-77a83ffd39bc",
   "metadata": {},
   "source": [
    "According to [Wikipedia](https://en.wikipedia.org/wiki/Wikipedia:Size_of_Wikipedia), there are 6,823,122 English Wiki articles as of May 2024. According to our results, only 0.31% of Wiki Articles have $DoS = 6$ to the Philosophy page. We estimate around 31.5K articles having DoS=6 in English Wikipedia."
   ]
  },
  {
   "cell_type": "code",
   "execution_count": 20,
   "id": "ec89d970-ade0-473a-aa7f-496440390b9d",
   "metadata": {
    "execution": {
     "iopub.execute_input": "2024-05-14T15:19:05.295757Z",
     "iopub.status.busy": "2024-05-14T15:19:05.295215Z",
     "iopub.status.idle": "2024-05-14T15:19:05.303627Z",
     "shell.execute_reply": "2024-05-14T15:19:05.302028Z",
     "shell.execute_reply.started": "2024-05-14T15:19:05.295709Z"
    }
   },
   "outputs": [
    {
     "name": "stdout",
     "output_type": "stream",
     "text": [
      "Estimation of the num of articles with DoS = 6: 47485.84\n"
     ]
    }
   ],
   "source": [
    "print(f\"Estimation of the num of articles with DoS = 6: {round(6823122 * pct_dos6 / 100, 2)}\")"
   ]
  },
  {
   "cell_type": "code",
   "execution_count": null,
   "id": "22669b1d",
   "metadata": {},
   "outputs": [],
   "source": []
  }
 ],
 "metadata": {
  "kernelspec": {
   "display_name": "Python 3 (ipykernel)",
   "language": "python",
   "name": "python3"
  },
  "language_info": {
   "codemirror_mode": {
    "name": "ipython",
    "version": 3
   },
   "file_extension": ".py",
   "mimetype": "text/x-python",
   "name": "python",
   "nbconvert_exporter": "python",
   "pygments_lexer": "ipython3",
   "version": "3.12.3"
  }
 },
 "nbformat": 4,
 "nbformat_minor": 5
}

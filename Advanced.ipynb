{
 "cells": [
  {
   "cell_type": "code",
   "execution_count": 173,
   "id": "e658ae8e-f838-4a6d-b4f6-e56252588498",
   "metadata": {
    "execution": {
     "iopub.execute_input": "2024-05-14T15:08:12.583491Z",
     "iopub.status.busy": "2024-05-14T15:08:12.582971Z",
     "iopub.status.idle": "2024-05-14T15:08:13.855604Z",
     "shell.execute_reply": "2024-05-14T15:08:13.854768Z",
     "shell.execute_reply.started": "2024-05-14T15:08:12.583443Z"
    }
   },
   "outputs": [],
   "source": [
    "import pandas as pd\n",
    "import matplotlib.pyplot as plt\n",
    "import seaborn as sns\n",
    "import os"
   ]
  },
  {
   "attachments": {},
   "cell_type": "markdown",
   "id": "fd5b3c16-f28e-4b06-94ac-5819622adc49",
   "metadata": {},
   "source": [
    "## Advanced Goals (Report)\n",
    "\n",
    "    1.) Get the degrees of separation for 1000 random pages. Find the median degree of separation as well as the distribution.\n",
    "    \n",
    "    2.) Considering your results, and the size of the English Wikipedia, estimate how many pages there are of degree 6.\n",
    "    \n",
    "    3.) Try a foreign language Wikipedia. Following the same rules above, determine the network structure. \n",
    "    Is there is a page a page that all others tend to lead back to? \n",
    "    Does it tend to loop more? \n",
    "    In any case, are the degrees generally shorter/longer?"
   ]
  },
  {
   "cell_type": "markdown",
   "id": "e9bb6383-c793-48b1-bfc3-7c6f5467f142",
   "metadata": {},
   "source": [
    "# Function Definitions"
   ]
  },
  {
   "cell_type": "code",
   "execution_count": 174,
   "id": "ebb2c074-db8c-4fca-9ad3-f288983e8368",
   "metadata": {
    "execution": {
     "iopub.execute_input": "2024-05-14T15:08:14.530379Z",
     "iopub.status.busy": "2024-05-14T15:08:14.529865Z",
     "iopub.status.idle": "2024-05-14T15:08:14.576985Z",
     "shell.execute_reply": "2024-05-14T15:08:14.576094Z",
     "shell.execute_reply.started": "2024-05-14T15:08:14.530337Z"
    }
   },
   "outputs": [],
   "source": [
    "# from scipy.signal import argrelextrema\n",
    "import numpy as np\n",
    "\n",
    "def load_data(folder_path):\n",
    "    \"\"\"\n",
    "    Loads data from CSV files in a given folder into a single DataFrame.\n",
    "\n",
    "    Parameters:\n",
    "    folder_path (str): The path to the folder containing the CSV files.\n",
    "\n",
    "    Returns:\n",
    "    df (DataFrame): A consolidated DataFrame containing data from all\n",
    "    CSV files in the folder.\n",
    "    \"\"\"\n",
    "\n",
    "    # List to hold individual DataFrames\n",
    "    dfs = []\n",
    "\n",
    "    # Loop through each file in the folder\n",
    "    for filename in os.listdir(folder_path):\n",
    "        if filename.endswith('.csv'):\n",
    "            # Read the CSV file into a DataFrame\n",
    "            file_path = os.path.join(folder_path, filename)\n",
    "            df = pd.read_csv(file_path)\n",
    "            \n",
    "            # Append the DataFrame to the list\n",
    "            dfs.append(df)\n",
    "\n",
    "    df = pd.concat(dfs, ignore_index=True)\n",
    "    df = df.drop_duplicates().fillna('No msg found.')\n",
    "    del dfs\n",
    "    print(f'Consolidated dataframe shape: {df.shape}')\n",
    "    # df.head()\n",
    "    return df\n",
    "\n",
    "def get_query(df, query):\n",
    "    \"\"\"\n",
    "    Executes a query on a DataFrame and returns the df & number of rows that match the query, \n",
    "    the total number of rows in the DataFrame, and the proportion of rows that match the query.\n",
    "    \"\"\"\n",
    "    ndf = df.query(query)\n",
    "    nquery = ndf.shape[0]\n",
    "    ntotal = df.shape[0]\n",
    "    p = nquery/ntotal\n",
    "    return ndf, nquery, ntotal, p\n",
    "\n",
    "def plot_dos(df, med, mean, lang='en'):\n",
    "    \"\"\"\n",
    "    Plots the distribution of Degrees of Separation (DoS) in the data.\n",
    "    \n",
    "    Parameters:\n",
    "    df (DataFrame): The DataFrame containing the data.\n",
    "    med (float): The median DoS.\n",
    "    mean (float): The mean DoS.\n",
    "    \"\"\"\n",
    "\n",
    "    # df['DoS'].plot(kind=\"hist\", bins=20, title = 'DOS Distribution');\n",
    "    fig, ax = plt.subplots()\n",
    "    data_range = int(df['DoS'].max() - df['DoS'].min())\n",
    "    counts, bine, _ = ax.hist(df['DoS'], bins=data_range, alpha=0.6)\n",
    "    \n",
    "    ax.set_title(f'DoS Distribution ({\"English\" if lang == 'en' else \"Spanish\"})')\n",
    "    ax.set_xlabel('Degrees of Separation (DoS)')\n",
    "    ax.set_ylabel('Frequency')\n",
    "    \n",
    "    ax.axvline(med, color='r', linestyle = '--')\n",
    "    # ax.axvline(mean, color='g', linestyle = '--')\n",
    "\n",
    "    # Find the indices of the local maxima\n",
    "    # maxima = argrelextrema(counts, np.greater)\n",
    "    # top_3_maxima = sorted(maxima[0], key=lambda x: counts[x], reverse=True)[:3]\n",
    "    # print(top_3_maxima)\n",
    "    if lang == 'en':\n",
    "        top_3_maxima = np.array([-1, 15, 22]) - int(df['DoS'].min())\n",
    "    else:\n",
    "        top_3_maxima = np.array([-1, 8, 16]) - int(df['DoS'].min())\n",
    "\n",
    "\n",
    "    # Annotate the local maxima\n",
    "    for idx in top_3_maxima:\n",
    "        ax.annotate(f'DoS={bine[idx]:.0f}, Freq={counts[idx]:.0f}',\n",
    "                    xy=(bine[idx]+0.5, counts[idx]+0.5),\n",
    "                    xytext=(10, 10), textcoords='offset points',\n",
    "                    arrowprops=dict(facecolor='gray', shrink=0.02))\n",
    "\n",
    "def get_median(df):\n",
    "    \"\"\"\n",
    "    Calculates the median Degrees of Separation (DoS) in the data.\n",
    "    \n",
    "    Parameters:\n",
    "    df (DataFrame): The DataFrame containing the data.\n",
    "    \n",
    "    Returns:\n",
    "    median (float): The median DoS.\n",
    "    \"\"\"\n",
    "\n",
    "    median = df['DoS'].median()\n",
    "    # print(f'Median: {median}')\n",
    "    return median\n",
    "\n",
    "def get_mean(df):\n",
    "    \"\"\"\n",
    "    Calculates the mean Degrees of Separation (DoS) in the data.\n",
    "    \n",
    "    Parameters:\n",
    "    df (DataFrame): The DataFrame containing the data.\n",
    "    \n",
    "    Returns:\n",
    "    mean (float): The mean DoS.\n",
    "    \"\"\"\n",
    "\n",
    "    mean = df['DoS'].mean()\n",
    "    # print(f'Mean: {mean}')\n",
    "    return mean\n"
   ]
  },
  {
   "cell_type": "markdown",
   "id": "6a0d17ab",
   "metadata": {},
   "source": [
    "# 1.a  Loading consolidated EN data"
   ]
  },
  {
   "cell_type": "code",
   "execution_count": 175,
   "id": "4ff05840-4334-4322-8f56-de38bd72b6b5",
   "metadata": {
    "execution": {
     "iopub.execute_input": "2024-05-14T15:08:52.968569Z",
     "iopub.status.busy": "2024-05-14T15:08:52.968023Z",
     "iopub.status.idle": "2024-05-14T15:08:52.980414Z",
     "shell.execute_reply": "2024-05-14T15:08:52.979148Z",
     "shell.execute_reply.started": "2024-05-14T15:08:52.968522Z"
    }
   },
   "outputs": [
    {
     "ename": "FileNotFoundError",
     "evalue": "[WinError 3] The system cannot find the path specified: 'english_data_advanced/en_conso'",
     "output_type": "error",
     "traceback": [
      "\u001b[1;31m---------------------------------------------------------------------------\u001b[0m",
      "\u001b[1;31mFileNotFoundError\u001b[0m                         Traceback (most recent call last)",
      "Cell \u001b[1;32mIn[175], line 2\u001b[0m\n\u001b[0;32m      1\u001b[0m f \u001b[38;5;241m=\u001b[39m [\u001b[38;5;124m'\u001b[39m\u001b[38;5;124m'\u001b[39m, \u001b[38;5;124m'\u001b[39m\u001b[38;5;124m_f\u001b[39m\u001b[38;5;124m'\u001b[39m, \u001b[38;5;124m'\u001b[39m\u001b[38;5;124m_val_0514\u001b[39m\u001b[38;5;124m'\u001b[39m, \u001b[38;5;124m'\u001b[39m\u001b[38;5;124m_josh_0515\u001b[39m\u001b[38;5;124m'\u001b[39m, \u001b[38;5;124m'\u001b[39m\u001b[38;5;124m_test\u001b[39m\u001b[38;5;124m'\u001b[39m]\n\u001b[1;32m----> 2\u001b[0m en \u001b[38;5;241m=\u001b[39m \u001b[43mload_data\u001b[49m\u001b[43m(\u001b[49m\u001b[38;5;124;43mf\u001b[39;49m\u001b[38;5;124;43m'\u001b[39;49m\u001b[38;5;124;43menglish_data_advanced/en_conso\u001b[39;49m\u001b[38;5;132;43;01m{\u001b[39;49;00m\u001b[43mf\u001b[49m\u001b[43m[\u001b[49m\u001b[38;5;241;43m0\u001b[39;49m\u001b[43m]\u001b[49m\u001b[38;5;132;43;01m}\u001b[39;49;00m\u001b[38;5;124;43m'\u001b[39;49m\u001b[43m)\u001b[49m\n\u001b[0;32m      3\u001b[0m \u001b[38;5;28mprint\u001b[39m(\u001b[38;5;124mf\u001b[39m\u001b[38;5;124m'\u001b[39m\u001b[38;5;124mA total of \u001b[39m\u001b[38;5;132;01m{\u001b[39;00men\u001b[38;5;241m.\u001b[39mshape[\u001b[38;5;241m0\u001b[39m]\u001b[38;5;132;01m}\u001b[39;00m\u001b[38;5;124m English Wikipedia random pages have been crawled.\u001b[39m\u001b[38;5;124m'\u001b[39m)\n\u001b[0;32m      4\u001b[0m \u001b[38;5;28mprint\u001b[39m(\u001b[38;5;124mf\u001b[39m\u001b[38;5;124m'\u001b[39m\u001b[38;5;124mThe DataFrame shows the resulting DoS and Path to reach Philosophy from each random page (Start).\u001b[39m\u001b[38;5;124m'\u001b[39m)\n",
      "Cell \u001b[1;32mIn[174], line 20\u001b[0m, in \u001b[0;36mload_data\u001b[1;34m(folder_path)\u001b[0m\n\u001b[0;32m     17\u001b[0m dfs \u001b[38;5;241m=\u001b[39m []\n\u001b[0;32m     19\u001b[0m \u001b[38;5;66;03m# Loop through each file in the folder\u001b[39;00m\n\u001b[1;32m---> 20\u001b[0m \u001b[38;5;28;01mfor\u001b[39;00m filename \u001b[38;5;129;01min\u001b[39;00m \u001b[43mos\u001b[49m\u001b[38;5;241;43m.\u001b[39;49m\u001b[43mlistdir\u001b[49m\u001b[43m(\u001b[49m\u001b[43mfolder_path\u001b[49m\u001b[43m)\u001b[49m:\n\u001b[0;32m     21\u001b[0m     \u001b[38;5;28;01mif\u001b[39;00m filename\u001b[38;5;241m.\u001b[39mendswith(\u001b[38;5;124m'\u001b[39m\u001b[38;5;124m.csv\u001b[39m\u001b[38;5;124m'\u001b[39m):\n\u001b[0;32m     22\u001b[0m         \u001b[38;5;66;03m# Read the CSV file into a DataFrame\u001b[39;00m\n\u001b[0;32m     23\u001b[0m         file_path \u001b[38;5;241m=\u001b[39m os\u001b[38;5;241m.\u001b[39mpath\u001b[38;5;241m.\u001b[39mjoin(folder_path, filename)\n",
      "\u001b[1;31mFileNotFoundError\u001b[0m: [WinError 3] The system cannot find the path specified: 'english_data_advanced/en_conso'"
     ]
    }
   ],
   "source": [
    "f = ['', '_f', '_val_0514', '_josh_0515', '_test']\n",
    "en = load_data(f'english_data_advanced/en_conso{f[0]}')\n",
    "print(f'A total of {en.shape[0]} English Wikipedia random pages have been crawled.')\n",
    "print(f'The DataFrame shows the resulting DoS and Path to reach Philosophy from each random page (Start).')\n",
    "_, nsuccess, ntotal, p = get_query(en, 'DoS != -1')\n",
    "print(f'In total, {nsuccess} random pages converged to Philosophy, which is {p:.2%} of the {ntotal} random pages crawled.')\n",
    "display(en.head())"
   ]
  },
  {
   "cell_type": "markdown",
   "id": "8bf8986b",
   "metadata": {},
   "source": [
    "# 1.b Get median and plot DoS distribution"
   ]
  },
  {
   "cell_type": "code",
   "execution_count": null,
   "id": "0608dde9",
   "metadata": {},
   "outputs": [
    {
     "name": "stdout",
     "output_type": "stream",
     "text": [
      "Median = 17.0\n",
      "Counting the random pages that did not reach Philosophy (DoS = -1), the median is 17.0 - vertical dashed red line in the plot.\n",
      "In the distribution, there are three observed local maxima - at DoS = -1 where loops were encountered, at DoS = 15 and at DoS = 22.\n"
     ]
    },
    {
     "data": {
      "image/png": "[encoded data removed]",
      "text/plain": [
       "<Figure size 640x480 with 1 Axes>"
      ]
     },
     "metadata": {},
     "output_type": "display_data"
    }
   ],
   "source": [
    "\n",
    "plot_dos(en, get_median(en), get_mean(en))\n",
    "print(f'Median = {get_median(en)}')\n",
    "print(f'Counting the random pages that did not reach Philosophy (DoS = -1), '\n",
    "      f'the median is {get_median(en)} - vertical dashed red line in the plot.')\n",
    "print(f'In the distribution, there are three observed local maxima - '\n",
    "      f'at DoS = -1 where loops were encountered, at DoS = 15 and at DoS = 22.')"
   ]
  },
  {
   "cell_type": "markdown",
   "id": "dc5a0ae5",
   "metadata": {},
   "source": [
    "# 2. Estimate number of pages with DOS = 6"
   ]
  },
  {
   "cell_type": "code",
   "execution_count": 205,
   "id": "c94643cd",
   "metadata": {},
   "outputs": [
    {
     "name": "stdout",
     "output_type": "stream",
     "text": [
      "In total, 9 random pages have DoS = 6, which is 0.90% of the 1000 English Wikipedia random pages crawled.\n"
     ]
    },
    {
     "data": {
      "text/html": [
       "<div>\n",
       "<style scoped>\n",
       "    .dataframe tbody tr th:only-of-type {\n",
       "        vertical-align: middle;\n",
       "    }\n",
       "\n",
       "    .dataframe tbody tr th {\n",
       "        vertical-align: top;\n",
       "    }\n",
       "\n",
       "    .dataframe thead th {\n",
       "        text-align: right;\n",
       "    }\n",
       "</style>\n",
       "<table border=\"1\" class=\"dataframe\">\n",
       "  <thead>\n",
       "    <tr style=\"text-align: right;\">\n",
       "      <th></th>\n",
       "      <th>Start</th>\n",
       "      <th>DoS</th>\n",
       "      <th>Path</th>\n",
       "      <th>Msg</th>\n",
       "    </tr>\n",
       "  </thead>\n",
       "  <tbody>\n",
       "    <tr>\n",
       "      <th>20</th>\n",
       "      <td>/wiki/Amedeo_Agostini</td>\n",
       "      <td>6.0</td>\n",
       "      <td>['https://en.wikipedia.org/wiki/Amedeo_Agostin...</td>\n",
       "      <td>OK - short path at /wiki/Mathematics (last idx...</td>\n",
       "    </tr>\n",
       "    <tr>\n",
       "      <th>51</th>\n",
       "      <td>/wiki/Aladdin_(BlackRock)</td>\n",
       "      <td>6.0</td>\n",
       "      <td>['https://en.wikipedia.org/wiki/Aladdin_(Black...</td>\n",
       "      <td>OK - normal path.</td>\n",
       "    </tr>\n",
       "    <tr>\n",
       "      <th>438</th>\n",
       "      <td>/wiki/Karl_Hanke</td>\n",
       "      <td>6.0</td>\n",
       "      <td>['https://en.wikipedia.org/wiki/Karl_Hanke', '...</td>\n",
       "      <td>OK - normal path.</td>\n",
       "    </tr>\n",
       "    <tr>\n",
       "      <th>478</th>\n",
       "      <td>/wiki/Two-dimensional_singular-value_decomposi...</td>\n",
       "      <td>6.0</td>\n",
       "      <td>['https://en.wikipedia.org/wiki/Two-dimensiona...</td>\n",
       "      <td>OK - short path at /wiki/Mathematics (last idx...</td>\n",
       "    </tr>\n",
       "    <tr>\n",
       "      <th>508</th>\n",
       "      <td>/wiki/List_of_National_Trust_properties_in_Aus...</td>\n",
       "      <td>6.0</td>\n",
       "      <td>['https://en.wikipedia.org/wiki/List_of_Nation...</td>\n",
       "      <td>OK - short path at /wiki/Action_(philosophy) (...</td>\n",
       "    </tr>\n",
       "    <tr>\n",
       "      <th>592</th>\n",
       "      <td>/wiki/Gay_Men%27s_Press</td>\n",
       "      <td>6.0</td>\n",
       "      <td>['https://en.wikipedia.org/wiki/Gay_Men%27s_Pr...</td>\n",
       "      <td>OK - normal path.</td>\n",
       "    </tr>\n",
       "    <tr>\n",
       "      <th>606</th>\n",
       "      <td>/wiki/Loxford_School</td>\n",
       "      <td>6.0</td>\n",
       "      <td>['https://en.wikipedia.org/wiki/Loxford_School...</td>\n",
       "      <td>OK - short path at /wiki/Education (last idx: 2).</td>\n",
       "    </tr>\n",
       "    <tr>\n",
       "      <th>729</th>\n",
       "      <td>/wiki/Smooth_projective_plane</td>\n",
       "      <td>6.0</td>\n",
       "      <td>['https://en.wikipedia.org/wiki/Smooth_project...</td>\n",
       "      <td>OK - short path at /wiki/Geometry (last idx: 1).</td>\n",
       "    </tr>\n",
       "    <tr>\n",
       "      <th>944</th>\n",
       "      <td>/wiki/Lewandowski-Kurowicka-Joe_distribution</td>\n",
       "      <td>6.0</td>\n",
       "      <td>['https://en.wikipedia.org/wiki/Lewandowski-Ku...</td>\n",
       "      <td>OK - short path at /wiki/Mathematics (last idx...</td>\n",
       "    </tr>\n",
       "  </tbody>\n",
       "</table>\n",
       "</div>"
      ],
      "text/plain": [
       "                                                 Start  DoS  \\\n",
       "20                               /wiki/Amedeo_Agostini  6.0   \n",
       "51                           /wiki/Aladdin_(BlackRock)  6.0   \n",
       "438                                   /wiki/Karl_Hanke  6.0   \n",
       "478  /wiki/Two-dimensional_singular-value_decomposi...  6.0   \n",
       "508  /wiki/List_of_National_Trust_properties_in_Aus...  6.0   \n",
       "592                            /wiki/Gay_Men%27s_Press  6.0   \n",
       "606                               /wiki/Loxford_School  6.0   \n",
       "729                      /wiki/Smooth_projective_plane  6.0   \n",
       "944       /wiki/Lewandowski-Kurowicka-Joe_distribution  6.0   \n",
       "\n",
       "                                                  Path  \\\n",
       "20   ['https://en.wikipedia.org/wiki/Amedeo_Agostin...   \n",
       "51   ['https://en.wikipedia.org/wiki/Aladdin_(Black...   \n",
       "438  ['https://en.wikipedia.org/wiki/Karl_Hanke', '...   \n",
       "478  ['https://en.wikipedia.org/wiki/Two-dimensiona...   \n",
       "508  ['https://en.wikipedia.org/wiki/List_of_Nation...   \n",
       "592  ['https://en.wikipedia.org/wiki/Gay_Men%27s_Pr...   \n",
       "606  ['https://en.wikipedia.org/wiki/Loxford_School...   \n",
       "729  ['https://en.wikipedia.org/wiki/Smooth_project...   \n",
       "944  ['https://en.wikipedia.org/wiki/Lewandowski-Ku...   \n",
       "\n",
       "                                                   Msg  \n",
       "20   OK - short path at /wiki/Mathematics (last idx...  \n",
       "51                                   OK - normal path.  \n",
       "438                                  OK - normal path.  \n",
       "478  OK - short path at /wiki/Mathematics (last idx...  \n",
       "508  OK - short path at /wiki/Action_(philosophy) (...  \n",
       "592                                  OK - normal path.  \n",
       "606  OK - short path at /wiki/Education (last idx: 2).  \n",
       "729   OK - short path at /wiki/Geometry (last idx: 1).  \n",
       "944  OK - short path at /wiki/Mathematics (last idx...  "
      ]
     },
     "metadata": {},
     "output_type": "display_data"
    }
   ],
   "source": [
    "df6, n6, nt, p6 = get_query(en, 'DoS == 6')\n",
    "print(f'In total, {n6} random pages have DoS = 6, which is {p6:.2%} of the {nt} English Wikipedia random pages crawled.')\n",
    "display(df6)\n",
    "# print(f\"{round(pct_dos6, 2)}% of our sample has DoS = 6.\")"
   ]
  },
  {
   "cell_type": "markdown",
   "id": "598cece0-5717-4de4-8baf-77a83ffd39bc",
   "metadata": {},
   "source": [
    "According to [Wikipedia](https://en.wikipedia.org/wiki/Wikipedia:Size_of_Wikipedia), there are 6,823,122 English Wiki articles as of May 2024. According to our results, only 0.70% of Wiki Articles have $DoS = 6$ to the Philosophy page. We estimate around 47.8K articles having DoS=6 in English Wikipedia."
   ]
  },
  {
   "cell_type": "code",
   "execution_count": null,
   "id": "ec89d970-ade0-473a-aa7f-496440390b9d",
   "metadata": {
    "execution": {
     "iopub.execute_input": "2024-05-14T15:19:05.295757Z",
     "iopub.status.busy": "2024-05-14T15:19:05.295215Z",
     "iopub.status.idle": "2024-05-14T15:19:05.303627Z",
     "shell.execute_reply": "2024-05-14T15:19:05.302028Z",
     "shell.execute_reply.started": "2024-05-14T15:19:05.295709Z"
    }
   },
   "outputs": [
    {
     "name": "stdout",
     "output_type": "stream",
     "text": [
      "Estimated number of English Wikipedia articles with DoS = 6: 49713\n"
     ]
    }
   ],
   "source": [
    "print(f\"Estimated number of English Wikipedia articles with DoS = 6: {6823122 * p6:.0f}\")"
   ]
  },
  {
   "cell_type": "markdown",
   "id": "55399720",
   "metadata": {},
   "source": [
    "# 3. ES data - load, median, distribution, DoS = 6"
   ]
  },
  {
   "cell_type": "code",
   "execution_count": 206,
   "id": "22669b1d",
   "metadata": {},
   "outputs": [
    {
     "name": "stdout",
     "output_type": "stream",
     "text": [
      "Consolidated dataframe shape: (1000, 4)\n",
      "A total of 1000 Spanish Wikipedia random pages have been crawled.\n",
      "The DataFrame shows the resulting DoS and Path to reach Psicología from each random page (Start).\n",
      "In total, 558 random pages converged to Psicología, which is 55.80% of the 1000 random pages crawled.\n",
      "We will see in section 3.a that Psicología is the most common page where other page gravitate to.\n"
     ]
    },
    {
     "data": {
      "text/html": [
       "<div>\n",
       "<style scoped>\n",
       "    .dataframe tbody tr th:only-of-type {\n",
       "        vertical-align: middle;\n",
       "    }\n",
       "\n",
       "    .dataframe tbody tr th {\n",
       "        vertical-align: top;\n",
       "    }\n",
       "\n",
       "    .dataframe thead th {\n",
       "        text-align: right;\n",
       "    }\n",
       "</style>\n",
       "<table border=\"1\" class=\"dataframe\">\n",
       "  <thead>\n",
       "    <tr style=\"text-align: right;\">\n",
       "      <th></th>\n",
       "      <th>Start</th>\n",
       "      <th>DoS</th>\n",
       "      <th>Path</th>\n",
       "      <th>Msg</th>\n",
       "    </tr>\n",
       "  </thead>\n",
       "  <tbody>\n",
       "    <tr>\n",
       "      <th>0</th>\n",
       "      <td>/wiki/Edward_D._Brown</td>\n",
       "      <td>13.0</td>\n",
       "      <td>['https://en.wikipedia.org/wiki/Edward_D._Brow...</td>\n",
       "      <td>OK - normal path.</td>\n",
       "    </tr>\n",
       "    <tr>\n",
       "      <th>1</th>\n",
       "      <td>/wiki/Barbara_Wiese</td>\n",
       "      <td>14.0</td>\n",
       "      <td>['https://en.wikipedia.org/wiki/Barbara_Wiese'...</td>\n",
       "      <td>OK - short path at /wiki/Sovereign_state (last...</td>\n",
       "    </tr>\n",
       "    <tr>\n",
       "      <th>2</th>\n",
       "      <td>/wiki/A_Little_Bit_Longer</td>\n",
       "      <td>17.0</td>\n",
       "      <td>['https://en.wikipedia.org/wiki/A_Little_Bit_L...</td>\n",
       "      <td>OK - normal path.</td>\n",
       "    </tr>\n",
       "    <tr>\n",
       "      <th>3</th>\n",
       "      <td>/wiki/Bouilly,_Aube</td>\n",
       "      <td>12.0</td>\n",
       "      <td>['https://en.wikipedia.org/wiki/Bouilly,_Aube'...</td>\n",
       "      <td>OK - short path at /wiki/Sovereign_state (last...</td>\n",
       "    </tr>\n",
       "    <tr>\n",
       "      <th>4</th>\n",
       "      <td>/wiki/Vineland_Handicap</td>\n",
       "      <td>18.0</td>\n",
       "      <td>['https://en.wikipedia.org/wiki/Vineland_Handi...</td>\n",
       "      <td>OK - short path at /wiki/Natural_science (last...</td>\n",
       "    </tr>\n",
       "  </tbody>\n",
       "</table>\n",
       "</div>"
      ],
      "text/plain": [
       "                       Start   DoS  \\\n",
       "0      /wiki/Edward_D._Brown  13.0   \n",
       "1        /wiki/Barbara_Wiese  14.0   \n",
       "2  /wiki/A_Little_Bit_Longer  17.0   \n",
       "3        /wiki/Bouilly,_Aube  12.0   \n",
       "4    /wiki/Vineland_Handicap  18.0   \n",
       "\n",
       "                                                Path  \\\n",
       "0  ['https://en.wikipedia.org/wiki/Edward_D._Brow...   \n",
       "1  ['https://en.wikipedia.org/wiki/Barbara_Wiese'...   \n",
       "2  ['https://en.wikipedia.org/wiki/A_Little_Bit_L...   \n",
       "3  ['https://en.wikipedia.org/wiki/Bouilly,_Aube'...   \n",
       "4  ['https://en.wikipedia.org/wiki/Vineland_Handi...   \n",
       "\n",
       "                                                 Msg  \n",
       "0                                  OK - normal path.  \n",
       "1  OK - short path at /wiki/Sovereign_state (last...  \n",
       "2                                  OK - normal path.  \n",
       "3  OK - short path at /wiki/Sovereign_state (last...  \n",
       "4  OK - short path at /wiki/Natural_science (last...  "
      ]
     },
     "metadata": {},
     "output_type": "display_data"
    },
    {
     "name": "stdout",
     "output_type": "stream",
     "text": [
      "Median = 8.0\n",
      "Counting the random pages that did not reach Psicología (DoS = -1), the median is 8.0 - vertical dashed red line in the plot.\n",
      "In the distribution, there are three observed local maxima - at DoS = -1 where loops were encountered, at DoS = 8 and at DoS = 16.\n"
     ]
    },
    {
     "data": {
      "image/png": "[encoded data removed]",
      "text/plain": [
       "<Figure size 640x480 with 1 Axes>"
      ]
     },
     "metadata": {},
     "output_type": "display_data"
    }
   ],
   "source": [
    "f = ['', '_f', '_josh_0515']\n",
    "es = load_data(f'es_conso')\n",
    "print(f'A total of {es.shape[0]} Spanish Wikipedia random pages have been crawled.')\n",
    "print(f'The DataFrame shows the resulting DoS and Path to reach Psicología from each random page (Start).')\n",
    "_, nsuccess, ntotal, p = get_query(es, 'DoS != -1')\n",
    "print(f'In total, {nsuccess} random pages converged to Psicología, which is {p:.2%} of the {ntotal} random pages crawled.')\n",
    "print(f'We will see in section 3.a that Psicología is the most common page where other page gravitate to.')\n",
    "display(en.head())\n",
    "\n",
    "plot_dos(es, get_median(es), get_mean(es), 'es')\n",
    "print(f'Median = {get_median(es)}')\n",
    "print(f'Counting the random pages that did not reach Psicología (DoS = -1), '\n",
    "      f'the median is {get_median(es)} - vertical dashed red line in the plot.')\n",
    "print(f'In the distribution, there are three observed local maxima - '\n",
    "      f'at DoS = -1 where loops were encountered, at DoS = 8 and at DoS = 16.')\n"
   ]
  },
  {
   "cell_type": "code",
   "execution_count": 178,
   "id": "42c8046c",
   "metadata": {},
   "outputs": [
    {
     "name": "stdout",
     "output_type": "stream",
     "text": [
      "In total, 14 random pages have DoS = 6, which is 1.40% of the 1000 Spanish Wikipedia random pages crawled.\n",
      "As there are 1951366 articles in Spanish Wikipedia, an estimated 27319 articles have DoS = 6.\n"
     ]
    },
    {
     "data": {
      "text/html": [
       "<div>\n",
       "<style scoped>\n",
       "    .dataframe tbody tr th:only-of-type {\n",
       "        vertical-align: middle;\n",
       "    }\n",
       "\n",
       "    .dataframe tbody tr th {\n",
       "        vertical-align: top;\n",
       "    }\n",
       "\n",
       "    .dataframe thead th {\n",
       "        text-align: right;\n",
       "    }\n",
       "</style>\n",
       "<table border=\"1\" class=\"dataframe\">\n",
       "  <thead>\n",
       "    <tr style=\"text-align: right;\">\n",
       "      <th></th>\n",
       "      <th>Start</th>\n",
       "      <th>DoS</th>\n",
       "      <th>Path</th>\n",
       "      <th>Msg</th>\n",
       "    </tr>\n",
       "  </thead>\n",
       "  <tbody>\n",
       "    <tr>\n",
       "      <th>208</th>\n",
       "      <td>/wiki/Tillandsia_%27Cotton_Candy%27</td>\n",
       "      <td>6.0</td>\n",
       "      <td>['https://es.wikipedia.org/wiki/Tillandsia_%27...</td>\n",
       "      <td>OK - normal path.</td>\n",
       "    </tr>\n",
       "    <tr>\n",
       "      <th>217</th>\n",
       "      <td>/wiki/Emilio_Ferrari</td>\n",
       "      <td>6.0</td>\n",
       "      <td>['https://es.wikipedia.org/wiki/Emilio_Ferrari...</td>\n",
       "      <td>OK - short path at /wiki/Arte (last idx: 4).</td>\n",
       "    </tr>\n",
       "    <tr>\n",
       "      <th>264</th>\n",
       "      <td>/wiki/Djonga</td>\n",
       "      <td>6.0</td>\n",
       "      <td>['https://es.wikipedia.org/wiki/Djonga', 'http...</td>\n",
       "      <td>OK - short path at /wiki/Arte (last idx: 4).</td>\n",
       "    </tr>\n",
       "    <tr>\n",
       "      <th>283</th>\n",
       "      <td>/wiki/Gira_Mi_Canci%C3%B3n</td>\n",
       "      <td>6.0</td>\n",
       "      <td>['https://es.wikipedia.org/wiki/Gira_Mi_Canci%...</td>\n",
       "      <td>OK - short path at /wiki/Arte (last idx: 4).</td>\n",
       "    </tr>\n",
       "    <tr>\n",
       "      <th>307</th>\n",
       "      <td>/wiki/Anexo:Temporada_2009_de_Turismo_Competic...</td>\n",
       "      <td>6.0</td>\n",
       "      <td>['https://es.wikipedia.org/wiki/Anexo:Temporad...</td>\n",
       "      <td>OK - normal path.</td>\n",
       "    </tr>\n",
       "    <tr>\n",
       "      <th>437</th>\n",
       "      <td>/wiki/Drew_Gulak</td>\n",
       "      <td>6.0</td>\n",
       "      <td>['https://es.wikipedia.org/wiki/Drew_Gulak', '...</td>\n",
       "      <td>OK - short path at /wiki/Deporte (last idx: 3).</td>\n",
       "    </tr>\n",
       "    <tr>\n",
       "      <th>525</th>\n",
       "      <td>/wiki/J%C3%A1nos_Zemen</td>\n",
       "      <td>6.0</td>\n",
       "      <td>['https://es.wikipedia.org/wiki/J%C3%A1nos_Zem...</td>\n",
       "      <td>OK - short path at /wiki/Atleta (last idx: 1).</td>\n",
       "    </tr>\n",
       "    <tr>\n",
       "      <th>547</th>\n",
       "      <td>/wiki/George_Murdoch_(luchador)</td>\n",
       "      <td>6.0</td>\n",
       "      <td>['https://es.wikipedia.org/wiki/George_Murdoch...</td>\n",
       "      <td>OK - short path at /wiki/Lucha_libre_profesion...</td>\n",
       "    </tr>\n",
       "    <tr>\n",
       "      <th>565</th>\n",
       "      <td>/wiki/M%C3%A9xico_en_los_Juegos_Ol%C3%ADmpicos...</td>\n",
       "      <td>6.0</td>\n",
       "      <td>['https://es.wikipedia.org/wiki/M%C3%A9xico_en...</td>\n",
       "      <td>OK - short path at /wiki/Juegos_Ol%C3%ADmpicos...</td>\n",
       "    </tr>\n",
       "    <tr>\n",
       "      <th>627</th>\n",
       "      <td>/wiki/Anexo:Gran_Premio_de_Italia_de_1977</td>\n",
       "      <td>6.0</td>\n",
       "      <td>['https://es.wikipedia.org/wiki/Anexo:Gran_Pre...</td>\n",
       "      <td>OK - short path at /wiki/Deporte (last idx: 3).</td>\n",
       "    </tr>\n",
       "    <tr>\n",
       "      <th>720</th>\n",
       "      <td>/wiki/Copa_Davis_2016</td>\n",
       "      <td>6.0</td>\n",
       "      <td>['https://es.wikipedia.org/wiki/Copa_Davis_201...</td>\n",
       "      <td>OK - short path at /wiki/Tenis (last idx: 2).</td>\n",
       "    </tr>\n",
       "    <tr>\n",
       "      <th>746</th>\n",
       "      <td>/wiki/Futsal_Rock_Cup_2017</td>\n",
       "      <td>6.0</td>\n",
       "      <td>['https://es.wikipedia.org/wiki/Futsal_Rock_Cu...</td>\n",
       "      <td>OK - short path at /wiki/Deporte (last idx: 3).</td>\n",
       "    </tr>\n",
       "    <tr>\n",
       "      <th>758</th>\n",
       "      <td>/wiki/Anexo:Masters_de_Canad%C3%A1_2003_(doble...</td>\n",
       "      <td>6.0</td>\n",
       "      <td>['https://es.wikipedia.org/wiki/Anexo:Masters_...</td>\n",
       "      <td>OK - short path at /wiki/Tenis (last idx: 2).</td>\n",
       "    </tr>\n",
       "    <tr>\n",
       "      <th>995</th>\n",
       "      <td>/wiki/Anexo:Lucha_en_los_Juegos_Europeos_de_Ba...</td>\n",
       "      <td>6.0</td>\n",
       "      <td>['https://es.wikipedia.org/wiki/Anexo:Lucha_en...</td>\n",
       "      <td>OK - short path at /wiki/Deporte (last idx: 3).</td>\n",
       "    </tr>\n",
       "  </tbody>\n",
       "</table>\n",
       "</div>"
      ],
      "text/plain": [
       "                                                 Start  DoS  \\\n",
       "208                /wiki/Tillandsia_%27Cotton_Candy%27  6.0   \n",
       "217                               /wiki/Emilio_Ferrari  6.0   \n",
       "264                                       /wiki/Djonga  6.0   \n",
       "283                         /wiki/Gira_Mi_Canci%C3%B3n  6.0   \n",
       "307  /wiki/Anexo:Temporada_2009_de_Turismo_Competic...  6.0   \n",
       "437                                   /wiki/Drew_Gulak  6.0   \n",
       "525                             /wiki/J%C3%A1nos_Zemen  6.0   \n",
       "547                    /wiki/George_Murdoch_(luchador)  6.0   \n",
       "565  /wiki/M%C3%A9xico_en_los_Juegos_Ol%C3%ADmpicos...  6.0   \n",
       "627          /wiki/Anexo:Gran_Premio_de_Italia_de_1977  6.0   \n",
       "720                              /wiki/Copa_Davis_2016  6.0   \n",
       "746                         /wiki/Futsal_Rock_Cup_2017  6.0   \n",
       "758  /wiki/Anexo:Masters_de_Canad%C3%A1_2003_(doble...  6.0   \n",
       "995  /wiki/Anexo:Lucha_en_los_Juegos_Europeos_de_Ba...  6.0   \n",
       "\n",
       "                                                  Path  \\\n",
       "208  ['https://es.wikipedia.org/wiki/Tillandsia_%27...   \n",
       "217  ['https://es.wikipedia.org/wiki/Emilio_Ferrari...   \n",
       "264  ['https://es.wikipedia.org/wiki/Djonga', 'http...   \n",
       "283  ['https://es.wikipedia.org/wiki/Gira_Mi_Canci%...   \n",
       "307  ['https://es.wikipedia.org/wiki/Anexo:Temporad...   \n",
       "437  ['https://es.wikipedia.org/wiki/Drew_Gulak', '...   \n",
       "525  ['https://es.wikipedia.org/wiki/J%C3%A1nos_Zem...   \n",
       "547  ['https://es.wikipedia.org/wiki/George_Murdoch...   \n",
       "565  ['https://es.wikipedia.org/wiki/M%C3%A9xico_en...   \n",
       "627  ['https://es.wikipedia.org/wiki/Anexo:Gran_Pre...   \n",
       "720  ['https://es.wikipedia.org/wiki/Copa_Davis_201...   \n",
       "746  ['https://es.wikipedia.org/wiki/Futsal_Rock_Cu...   \n",
       "758  ['https://es.wikipedia.org/wiki/Anexo:Masters_...   \n",
       "995  ['https://es.wikipedia.org/wiki/Anexo:Lucha_en...   \n",
       "\n",
       "                                                   Msg  \n",
       "208                                  OK - normal path.  \n",
       "217       OK - short path at /wiki/Arte (last idx: 4).  \n",
       "264       OK - short path at /wiki/Arte (last idx: 4).  \n",
       "283       OK - short path at /wiki/Arte (last idx: 4).  \n",
       "307                                  OK - normal path.  \n",
       "437    OK - short path at /wiki/Deporte (last idx: 3).  \n",
       "525     OK - short path at /wiki/Atleta (last idx: 1).  \n",
       "547  OK - short path at /wiki/Lucha_libre_profesion...  \n",
       "565  OK - short path at /wiki/Juegos_Ol%C3%ADmpicos...  \n",
       "627    OK - short path at /wiki/Deporte (last idx: 3).  \n",
       "720      OK - short path at /wiki/Tenis (last idx: 2).  \n",
       "746    OK - short path at /wiki/Deporte (last idx: 3).  \n",
       "758      OK - short path at /wiki/Tenis (last idx: 2).  \n",
       "995    OK - short path at /wiki/Deporte (last idx: 3).  "
      ]
     },
     "metadata": {},
     "output_type": "display_data"
    }
   ],
   "source": [
    "df6, n6, nt, p6 = get_query(es, 'DoS == 6')\n",
    "print(f'In total, {n6} random pages have DoS = 6, which is {p6:.2%} of the {nt} Spanish Wikipedia random pages crawled.')\n",
    "print(f\"As there are 1951366 articles in Spanish Wikipedia, an estimated {1951366 * p6:.0f} articles have DoS = 6.\")\n",
    "display(df6)"
   ]
  },
  {
   "cell_type": "markdown",
   "id": "f8de7c18",
   "metadata": {},
   "source": [
    "# 3.a Page visited most"
   ]
  },
  {
   "cell_type": "code",
   "execution_count": null,
   "id": "76f5274c",
   "metadata": {},
   "outputs": [
    {
     "name": "stdout",
     "output_type": "stream",
     "text": [
      "Most common page visited: https://es.wikipedia.org/wiki/Especie\n"
     ]
    }
   ],
   "source": [
    "#Preprocess csv for short paths and loops\n",
    "\n",
    "#get short paths\n",
    "short_paths_idx = es.loc[es['Msg'].str.contains('short', case = False, na=False)].index.tolist()\n",
    "\n",
    "for _ in short_paths_idx:\n",
    "    idx = 0\n",
    "    target = eval(es.iloc[_]['Path'])[-1]\n",
    "    print('Target ' + target)\n",
    "    while True:     \n",
    "        if idx == es.shape[0]:\n",
    "            break\n",
    "        \n",
    "        row_search = eval(es.iloc[idx]['Path'])\n",
    "        \n",
    "        if target in row_search and row_search[-1] != target:\n",
    "            print(row_search)\n",
    "            # append paths to current\n",
    "            start_idx = row_search.index(target)\n",
    "            links_to_append = row_search[start_idx:]\n",
    "            new_paths = eval(es.iloc[_]['Path']) + links_to_append\n",
    "            es.at[_, 'Path'] = str(new_paths)\n",
    "            if 'OK - normal path' in es.iloc[idx]['Msg']:\n",
    "                break\n",
    "            # change target\n",
    "            target = eval(es.iloc[idx]['Path'])[-1]\n",
    "        idx += 1 \n",
    "print('done')"
   ]
  },
  {
   "cell_type": "code",
   "execution_count": 209,
   "id": "0660a6bf",
   "metadata": {},
   "outputs": [
    {
     "name": "stdout",
     "output_type": "stream",
     "text": [
      "Most common page visited: i\n"
     ]
    }
   ],
   "source": [
    "from itertools import chain\n",
    "from collections import Counter\n",
    "\n",
    "es_paths = list(chain.from_iterable(es['Path']))\n",
    "es_counts = Counter(es_paths)\n",
    "\n",
    "print(f'Most common page visited: {es_counts.most_common(1)[0][0]}')"
   ]
  },
  {
   "cell_type": "markdown",
   "id": "922eb9f7",
   "metadata": {},
   "source": [
    "# 3.b Does it loop more?"
   ]
  },
  {
   "cell_type": "code",
   "execution_count": null,
   "id": "1caca096",
   "metadata": {},
   "outputs": [
    {
     "name": "stdout",
     "output_type": "stream",
     "text": [
      "EN Loop:35\n",
      "ES Loop:52\n"
     ]
    }
   ],
   "source": [
    "en_loop = en[en['Msg'].str.contains('looped')]\n",
    "print(f'EN Loop:{en_loop.shape[0]}')\n",
    "\n",
    "es_loop = es[es['Msg'].str.contains('looped')]\n",
    "print(f'ES Loop:{es_loop.shape[0]}')"
   ]
  },
  {
   "cell_type": "markdown",
   "id": "949a0d45",
   "metadata": {},
   "source": [
    "Yes, foreign language ES tends to loop more than EN when using our sample data as basis."
   ]
  },
  {
   "cell_type": "markdown",
   "id": "012e303f",
   "metadata": {},
   "source": [
    "# 3.c Is the DoS generally longer or shorter?"
   ]
  },
  {
   "cell_type": "code",
   "execution_count": null,
   "id": "03d5e864",
   "metadata": {},
   "outputs": [
    {
     "name": "stdout",
     "output_type": "stream",
     "text": [
      "EN Loop:112\n",
      "ES Loop:71\n"
     ]
    }
   ],
   "source": [
    "en_loop = en[en['Msg'].str.contains('looped')]\n",
    "print(f'EN Loop:{en_loop.shape[0]}')\n",
    "\n",
    "es_loop = es[es['Msg'].str.contains('looped')]\n",
    "print(f'ES Loop:{es_loop.shape[0]}')"
   ]
  }
 ],
 "metadata": {
  "kernelspec": {
   "display_name": "Python 3 (ipykernel)",
   "language": "python",
   "name": "python3"
  },
  "language_info": {
   "codemirror_mode": {
    "name": "ipython",
    "version": 3
   },
   "file_extension": ".py",
   "mimetype": "text/x-python",
   "name": "python",
   "nbconvert_exporter": "python",
   "pygments_lexer": "ipython3",
   "version": "3.12.3"
  }
 },
 "nbformat": 4,
 "nbformat_minor": 5
}

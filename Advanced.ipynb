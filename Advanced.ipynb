{
 "cells": [
  {
   "cell_type": "code",
   "execution_count": 2,
   "id": "e658ae8e-f838-4a6d-b4f6-e56252588498",
   "metadata": {
    "execution": {
     "iopub.execute_input": "2024-05-14T15:08:12.583491Z",
     "iopub.status.busy": "2024-05-14T15:08:12.582971Z",
     "iopub.status.idle": "2024-05-14T15:08:13.855604Z",
     "shell.execute_reply": "2024-05-14T15:08:13.854768Z",
     "shell.execute_reply.started": "2024-05-14T15:08:12.583443Z"
    }
   },
   "outputs": [],
   "source": [
    "import pandas as pd\n",
    "import matplotlib.pyplot as plt\n",
    "import seaborn as sns\n",
    "import os"
   ]
  },
  {
   "attachments": {},
   "cell_type": "markdown",
   "id": "fd5b3c16-f28e-4b06-94ac-5819622adc49",
   "metadata": {},
   "source": [
    "## Advanced Goals (Report)\n",
    "\n",
    "    1.) Get the degrees of separation for 1000 random pages. Find the median degree of separation as well as the distribution.\n",
    "    \n",
    "    2.) Considering your results, and the size of the English Wikipedia, estimate how many pages there are of degree 6.\n",
    "    \n",
    "    3.) Try a foreign language Wikipedia. Following the same rules above, determine the network structure. \n",
    "    Is there is a page a page that all others tend to lead back to? \n",
    "    Does it tend to loop more? \n",
    "    In any case, are the degrees generally shorter/longer?"
   ]
  },
  {
   "cell_type": "markdown",
   "id": "e9bb6383-c793-48b1-bfc3-7c6f5467f142",
   "metadata": {},
   "source": [
    "# Loading the data"
   ]
  },
  {
   "cell_type": "code",
   "execution_count": 3,
   "id": "ebb2c074-db8c-4fca-9ad3-f288983e8368",
   "metadata": {
    "execution": {
     "iopub.execute_input": "2024-05-14T15:08:14.530379Z",
     "iopub.status.busy": "2024-05-14T15:08:14.529865Z",
     "iopub.status.idle": "2024-05-14T15:08:14.576985Z",
     "shell.execute_reply": "2024-05-14T15:08:14.576094Z",
     "shell.execute_reply.started": "2024-05-14T15:08:14.530337Z"
    }
   },
   "outputs": [],
   "source": [
    "def load_data(folder_path):\n",
    "\n",
    "# Path to the folder containing the CSV files\n",
    "# folder_path = 'en_conso'\n",
    "\n",
    "# List to hold individual DataFrames\n",
    "    dfs = []\n",
    "\n",
    "    # Loop through each file in the folder\n",
    "    for filename in os.listdir(folder_path):\n",
    "        if filename.endswith('.csv'):\n",
    "            # Read the CSV file into a DataFrame\n",
    "            file_path = os.path.join(folder_path, filename)\n",
    "            df = pd.read_csv(file_path)\n",
    "            \n",
    "            # Append the DataFrame to the list\n",
    "            dfs.append(df)\n",
    "\n",
    "    df = pd.concat(dfs, ignore_index=True)\n",
    "    df = df.drop_duplicates()\n",
    "    del dfs\n",
    "    print(f'Consolidated dataframe shape: {df.shape}')\n",
    "    # df.head()\n",
    "    return df"
   ]
  },
  {
   "cell_type": "markdown",
   "id": "ce02864c-2056-44ad-8d95-4e3552bc1da2",
   "metadata": {},
   "source": [
    "# Plotting the distribution of Degrees of Separation"
   ]
  },
  {
   "cell_type": "code",
   "execution_count": 10,
   "id": "a43d5dfb-0450-4d3e-aa33-8f8dba14c05f",
   "metadata": {
    "execution": {
     "iopub.execute_input": "2024-05-14T15:08:21.209614Z",
     "iopub.status.busy": "2024-05-14T15:08:21.209022Z",
     "iopub.status.idle": "2024-05-14T15:08:21.495009Z",
     "shell.execute_reply": "2024-05-14T15:08:21.494163Z",
     "shell.execute_reply.started": "2024-05-14T15:08:21.209564Z"
    }
   },
   "outputs": [],
   "source": [
    "def plot_dos(df,med, mean):\n",
    "    # df['DoS'].plot(kind=\"hist\", bins=20, title = 'DOS Distribution');\n",
    "    fig, ax = plt.subplots()\n",
    "    \n",
    "    ax.hist(df['DoS'], alpha = 0.6)\n",
    "    \n",
    "    ax.set_title('DOS Distribution')\n",
    "    ax.set_xlabel('Degrees of Separation')\n",
    "    ax.set_ylabel('Frequency')\n",
    "    \n",
    "    ax.axvline(med, color='r', linestyle = '--')\n",
    "    ax.axvline(mean, color='g', linestyle = '--')"
   ]
  },
  {
   "cell_type": "markdown",
   "id": "d9843412-d68a-4c0b-b675-3272dd6a31e8",
   "metadata": {},
   "source": [
    "# Median of the DoS"
   ]
  },
  {
   "cell_type": "code",
   "execution_count": 5,
   "id": "e2cf7379-8a6d-4ac8-a05f-70e350e728d0",
   "metadata": {
    "execution": {
     "iopub.execute_input": "2024-05-14T15:08:23.508781Z",
     "iopub.status.busy": "2024-05-14T15:08:23.508247Z",
     "iopub.status.idle": "2024-05-14T15:08:23.514972Z",
     "shell.execute_reply": "2024-05-14T15:08:23.513893Z",
     "shell.execute_reply.started": "2024-05-14T15:08:23.508733Z"
    }
   },
   "outputs": [],
   "source": [
    "def get_median(df):\n",
    "    median = df['DoS'].median()\n",
    "    print(f'Median: {median}')\n",
    "    return median"
   ]
  },
  {
   "cell_type": "markdown",
   "id": "a42416ea",
   "metadata": {},
   "source": [
    "# Mean of the DoS"
   ]
  },
  {
   "cell_type": "code",
   "execution_count": 6,
   "id": "61eee810",
   "metadata": {},
   "outputs": [],
   "source": [
    "def get_mean(df):\n",
    "    mean = df['DoS'].mean()\n",
    "    print(f'Mean: {mean}')\n",
    "    return mean"
   ]
  },
  {
   "cell_type": "markdown",
   "id": "f5d1c37a-4969-4656-a3cb-a9f7e23e1b72",
   "metadata": {},
   "source": [
    "# Percentage of DoS=6"
   ]
  },
  {
   "cell_type": "code",
   "execution_count": 7,
   "id": "85cdcdc6-a629-4556-bb01-02295caca3ac",
   "metadata": {
    "execution": {
     "iopub.execute_input": "2024-05-14T15:08:28.393298Z",
     "iopub.status.busy": "2024-05-14T15:08:28.392762Z",
     "iopub.status.idle": "2024-05-14T15:08:28.414920Z",
     "shell.execute_reply": "2024-05-14T15:08:28.413381Z",
     "shell.execute_reply.started": "2024-05-14T15:08:28.393249Z"
    }
   },
   "outputs": [],
   "source": [
    "def get_percentage(df):\n",
    "    return df.query('DoS == 6')"
   ]
  },
  {
   "cell_type": "markdown",
   "id": "6a0d17ab",
   "metadata": {},
   "source": [
    "# 1.a  Loading consolidated EN data"
   ]
  },
  {
   "cell_type": "code",
   "execution_count": 11,
   "id": "4ff05840-4334-4322-8f56-de38bd72b6b5",
   "metadata": {
    "execution": {
     "iopub.execute_input": "2024-05-14T15:08:52.968569Z",
     "iopub.status.busy": "2024-05-14T15:08:52.968023Z",
     "iopub.status.idle": "2024-05-14T15:08:52.980414Z",
     "shell.execute_reply": "2024-05-14T15:08:52.979148Z",
     "shell.execute_reply.started": "2024-05-14T15:08:52.968522Z"
    }
   },
   "outputs": [
    {
     "name": "stdout",
     "output_type": "stream",
     "text": [
      "Consolidated dataframe shape: (1000, 4)\n"
     ]
    },
    {
     "data": {
      "text/html": [
       "<div>\n",
       "<style scoped>\n",
       "    .dataframe tbody tr th:only-of-type {\n",
       "        vertical-align: middle;\n",
       "    }\n",
       "\n",
       "    .dataframe tbody tr th {\n",
       "        vertical-align: top;\n",
       "    }\n",
       "\n",
       "    .dataframe thead th {\n",
       "        text-align: right;\n",
       "    }\n",
       "</style>\n",
       "<table border=\"1\" class=\"dataframe\">\n",
       "  <thead>\n",
       "    <tr style=\"text-align: right;\">\n",
       "      <th></th>\n",
       "      <th>Start</th>\n",
       "      <th>DoS</th>\n",
       "      <th>Path</th>\n",
       "      <th>Msg</th>\n",
       "    </tr>\n",
       "  </thead>\n",
       "  <tbody>\n",
       "    <tr>\n",
       "      <th>0</th>\n",
       "      <td>/wiki/Edward_D._Brown</td>\n",
       "      <td>13.0</td>\n",
       "      <td>['https://en.wikipedia.org/wiki/Edward_D._Brow...</td>\n",
       "      <td>OK - normal path.</td>\n",
       "    </tr>\n",
       "    <tr>\n",
       "      <th>1</th>\n",
       "      <td>/wiki/Barbara_Wiese</td>\n",
       "      <td>14.0</td>\n",
       "      <td>['https://en.wikipedia.org/wiki/Barbara_Wiese'...</td>\n",
       "      <td>OK - short path at /wiki/Sovereign_state (last...</td>\n",
       "    </tr>\n",
       "    <tr>\n",
       "      <th>2</th>\n",
       "      <td>/wiki/A_Little_Bit_Longer</td>\n",
       "      <td>17.0</td>\n",
       "      <td>['https://en.wikipedia.org/wiki/A_Little_Bit_L...</td>\n",
       "      <td>OK - normal path.</td>\n",
       "    </tr>\n",
       "    <tr>\n",
       "      <th>3</th>\n",
       "      <td>/wiki/Bouilly,_Aube</td>\n",
       "      <td>12.0</td>\n",
       "      <td>['https://en.wikipedia.org/wiki/Bouilly,_Aube'...</td>\n",
       "      <td>OK - short path at /wiki/Sovereign_state (last...</td>\n",
       "    </tr>\n",
       "    <tr>\n",
       "      <th>4</th>\n",
       "      <td>/wiki/Vineland_Handicap</td>\n",
       "      <td>18.0</td>\n",
       "      <td>['https://en.wikipedia.org/wiki/Vineland_Handi...</td>\n",
       "      <td>OK - short path at /wiki/Natural_science (last...</td>\n",
       "    </tr>\n",
       "  </tbody>\n",
       "</table>\n",
       "</div>"
      ],
      "text/plain": [
       "                       Start   DoS  \\\n",
       "0      /wiki/Edward_D._Brown  13.0   \n",
       "1        /wiki/Barbara_Wiese  14.0   \n",
       "2  /wiki/A_Little_Bit_Longer  17.0   \n",
       "3        /wiki/Bouilly,_Aube  12.0   \n",
       "4    /wiki/Vineland_Handicap  18.0   \n",
       "\n",
       "                                                Path  \\\n",
       "0  ['https://en.wikipedia.org/wiki/Edward_D._Brow...   \n",
       "1  ['https://en.wikipedia.org/wiki/Barbara_Wiese'...   \n",
       "2  ['https://en.wikipedia.org/wiki/A_Little_Bit_L...   \n",
       "3  ['https://en.wikipedia.org/wiki/Bouilly,_Aube'...   \n",
       "4  ['https://en.wikipedia.org/wiki/Vineland_Handi...   \n",
       "\n",
       "                                                 Msg  \n",
       "0                                  OK - normal path.  \n",
       "1  OK - short path at /wiki/Sovereign_state (last...  \n",
       "2                                  OK - normal path.  \n",
       "3  OK - short path at /wiki/Sovereign_state (last...  \n",
       "4  OK - short path at /wiki/Natural_science (last...  "
      ]
     },
     "execution_count": 11,
     "metadata": {},
     "output_type": "execute_result"
    }
   ],
   "source": [
    "en = load_data('en_conso')\n",
    "en.head()"
   ]
  },
  {
   "cell_type": "markdown",
   "id": "8bf8986b",
   "metadata": {},
   "source": [
    "# 1.b Get median and plot dos distribution"
   ]
  },
  {
   "cell_type": "code",
   "execution_count": 12,
   "id": "0608dde9",
   "metadata": {},
   "outputs": [
    {
     "name": "stdout",
     "output_type": "stream",
     "text": [
      "Median: 17.0\n",
      "Mean: 15.8\n"
     ]
    },
    {
     "data": {
      "image/png": "[encoded data removed]",
      "text/plain": [
       "<Figure size 640x480 with 1 Axes>"
      ]
     },
     "metadata": {},
     "output_type": "display_data"
    }
   ],
   "source": [
    "\n",
    "plot_dos(en, get_median(en), get_mean(en))\n"
   ]
  },
  {
   "cell_type": "markdown",
   "id": "dc5a0ae5",
   "metadata": {},
   "source": [
    "# 2. Estimate number of pages with DOS = 6"
   ]
  },
  {
   "cell_type": "code",
   "execution_count": 14,
   "id": "c94643cd",
   "metadata": {},
   "outputs": [
    {
     "data": {
      "text/html": [
       "<div>\n",
       "<style scoped>\n",
       "    .dataframe tbody tr th:only-of-type {\n",
       "        vertical-align: middle;\n",
       "    }\n",
       "\n",
       "    .dataframe tbody tr th {\n",
       "        vertical-align: top;\n",
       "    }\n",
       "\n",
       "    .dataframe thead th {\n",
       "        text-align: right;\n",
       "    }\n",
       "</style>\n",
       "<table border=\"1\" class=\"dataframe\">\n",
       "  <thead>\n",
       "    <tr style=\"text-align: right;\">\n",
       "      <th></th>\n",
       "      <th>Start</th>\n",
       "      <th>DoS</th>\n",
       "      <th>Path</th>\n",
       "      <th>Msg</th>\n",
       "    </tr>\n",
       "  </thead>\n",
       "  <tbody>\n",
       "    <tr>\n",
       "      <th>20</th>\n",
       "      <td>/wiki/Amedeo_Agostini</td>\n",
       "      <td>6.0</td>\n",
       "      <td>['https://en.wikipedia.org/wiki/Amedeo_Agostin...</td>\n",
       "      <td>OK - short path at /wiki/Mathematics (last idx...</td>\n",
       "    </tr>\n",
       "    <tr>\n",
       "      <th>51</th>\n",
       "      <td>/wiki/Aladdin_(BlackRock)</td>\n",
       "      <td>6.0</td>\n",
       "      <td>['https://en.wikipedia.org/wiki/Aladdin_(Black...</td>\n",
       "      <td>OK - normal path.</td>\n",
       "    </tr>\n",
       "    <tr>\n",
       "      <th>438</th>\n",
       "      <td>/wiki/Karl_Hanke</td>\n",
       "      <td>6.0</td>\n",
       "      <td>['https://en.wikipedia.org/wiki/Karl_Hanke', '...</td>\n",
       "      <td>OK - normal path.</td>\n",
       "    </tr>\n",
       "    <tr>\n",
       "      <th>478</th>\n",
       "      <td>/wiki/Two-dimensional_singular-value_decomposi...</td>\n",
       "      <td>6.0</td>\n",
       "      <td>['https://en.wikipedia.org/wiki/Two-dimensiona...</td>\n",
       "      <td>OK - short path at /wiki/Mathematics (last idx...</td>\n",
       "    </tr>\n",
       "    <tr>\n",
       "      <th>508</th>\n",
       "      <td>/wiki/List_of_National_Trust_properties_in_Aus...</td>\n",
       "      <td>6.0</td>\n",
       "      <td>['https://en.wikipedia.org/wiki/List_of_Nation...</td>\n",
       "      <td>OK - short path at /wiki/Action_(philosophy) (...</td>\n",
       "    </tr>\n",
       "    <tr>\n",
       "      <th>592</th>\n",
       "      <td>/wiki/Gay_Men%27s_Press</td>\n",
       "      <td>6.0</td>\n",
       "      <td>['https://en.wikipedia.org/wiki/Gay_Men%27s_Pr...</td>\n",
       "      <td>OK - normal path.</td>\n",
       "    </tr>\n",
       "    <tr>\n",
       "      <th>606</th>\n",
       "      <td>/wiki/Loxford_School</td>\n",
       "      <td>6.0</td>\n",
       "      <td>['https://en.wikipedia.org/wiki/Loxford_School...</td>\n",
       "      <td>OK - short path at /wiki/Education (last idx: 2).</td>\n",
       "    </tr>\n",
       "    <tr>\n",
       "      <th>729</th>\n",
       "      <td>/wiki/Smooth_projective_plane</td>\n",
       "      <td>6.0</td>\n",
       "      <td>['https://en.wikipedia.org/wiki/Smooth_project...</td>\n",
       "      <td>OK - short path at /wiki/Geometry (last idx: 1).</td>\n",
       "    </tr>\n",
       "    <tr>\n",
       "      <th>944</th>\n",
       "      <td>/wiki/Lewandowski-Kurowicka-Joe_distribution</td>\n",
       "      <td>6.0</td>\n",
       "      <td>['https://en.wikipedia.org/wiki/Lewandowski-Ku...</td>\n",
       "      <td>OK - short path at /wiki/Mathematics (last idx...</td>\n",
       "    </tr>\n",
       "  </tbody>\n",
       "</table>\n",
       "</div>"
      ],
      "text/plain": [
       "                                                 Start  DoS  \\\n",
       "20                               /wiki/Amedeo_Agostini  6.0   \n",
       "51                           /wiki/Aladdin_(BlackRock)  6.0   \n",
       "438                                   /wiki/Karl_Hanke  6.0   \n",
       "478  /wiki/Two-dimensional_singular-value_decomposi...  6.0   \n",
       "508  /wiki/List_of_National_Trust_properties_in_Aus...  6.0   \n",
       "592                            /wiki/Gay_Men%27s_Press  6.0   \n",
       "606                               /wiki/Loxford_School  6.0   \n",
       "729                      /wiki/Smooth_projective_plane  6.0   \n",
       "944       /wiki/Lewandowski-Kurowicka-Joe_distribution  6.0   \n",
       "\n",
       "                                                  Path  \\\n",
       "20   ['https://en.wikipedia.org/wiki/Amedeo_Agostin...   \n",
       "51   ['https://en.wikipedia.org/wiki/Aladdin_(Black...   \n",
       "438  ['https://en.wikipedia.org/wiki/Karl_Hanke', '...   \n",
       "478  ['https://en.wikipedia.org/wiki/Two-dimensiona...   \n",
       "508  ['https://en.wikipedia.org/wiki/List_of_Nation...   \n",
       "592  ['https://en.wikipedia.org/wiki/Gay_Men%27s_Pr...   \n",
       "606  ['https://en.wikipedia.org/wiki/Loxford_School...   \n",
       "729  ['https://en.wikipedia.org/wiki/Smooth_project...   \n",
       "944  ['https://en.wikipedia.org/wiki/Lewandowski-Ku...   \n",
       "\n",
       "                                                   Msg  \n",
       "20   OK - short path at /wiki/Mathematics (last idx...  \n",
       "51                                   OK - normal path.  \n",
       "438                                  OK - normal path.  \n",
       "478  OK - short path at /wiki/Mathematics (last idx...  \n",
       "508  OK - short path at /wiki/Action_(philosophy) (...  \n",
       "592                                  OK - normal path.  \n",
       "606  OK - short path at /wiki/Education (last idx: 2).  \n",
       "729   OK - short path at /wiki/Geometry (last idx: 1).  \n",
       "944  OK - short path at /wiki/Mathematics (last idx...  "
      ]
     },
     "metadata": {},
     "output_type": "display_data"
    },
    {
     "name": "stdout",
     "output_type": "stream",
     "text": [
      "0.9% of our sample has DoS = 6.\n"
     ]
    }
   ],
   "source": [
    "display(get_percentage(en))\n",
    "pct_dos6 = len(en.query('DoS == 6')) / len(en) * 100\n",
    "print(f\"{round(pct_dos6, 2)}% of our sample has DoS = 6.\")"
   ]
  },
  {
   "cell_type": "markdown",
   "id": "598cece0-5717-4de4-8baf-77a83ffd39bc",
   "metadata": {},
   "source": [
    "According to [Wikipedia](https://en.wikipedia.org/wiki/Wikipedia:Size_of_Wikipedia), there are 6,823,122 English Wiki articles as of May 2024. According to our results, only 0.31% of Wiki Articles have $DoS = 6$ to the Philosophy page. We estimate around 31.5K articles having DoS=6 in English Wikipedia."
   ]
  },
  {
   "cell_type": "code",
   "execution_count": 15,
   "id": "ec89d970-ade0-473a-aa7f-496440390b9d",
   "metadata": {
    "execution": {
     "iopub.execute_input": "2024-05-14T15:19:05.295757Z",
     "iopub.status.busy": "2024-05-14T15:19:05.295215Z",
     "iopub.status.idle": "2024-05-14T15:19:05.303627Z",
     "shell.execute_reply": "2024-05-14T15:19:05.302028Z",
     "shell.execute_reply.started": "2024-05-14T15:19:05.295709Z"
    }
   },
   "outputs": [
    {
     "name": "stdout",
     "output_type": "stream",
     "text": [
      "Estimation of the num of articles with DoS = 6: 61408.1\n"
     ]
    }
   ],
   "source": [
    "print(f\"Estimation of the num of articles with DoS = 6: {round(6823122 * pct_dos6 / 100, 2)}\")"
   ]
  },
  {
   "cell_type": "markdown",
   "id": "55399720",
   "metadata": {},
   "source": [
    "# 3.1.a Loading ES data"
   ]
  },
  {
   "cell_type": "code",
   "execution_count": 16,
   "id": "22669b1d",
   "metadata": {},
   "outputs": [
    {
     "name": "stdout",
     "output_type": "stream",
     "text": [
      "Consolidated dataframe shape: (1000, 4)\n"
     ]
    },
    {
     "data": {
      "text/html": [
       "<div>\n",
       "<style scoped>\n",
       "    .dataframe tbody tr th:only-of-type {\n",
       "        vertical-align: middle;\n",
       "    }\n",
       "\n",
       "    .dataframe tbody tr th {\n",
       "        vertical-align: top;\n",
       "    }\n",
       "\n",
       "    .dataframe thead th {\n",
       "        text-align: right;\n",
       "    }\n",
       "</style>\n",
       "<table border=\"1\" class=\"dataframe\">\n",
       "  <thead>\n",
       "    <tr style=\"text-align: right;\">\n",
       "      <th></th>\n",
       "      <th>Start</th>\n",
       "      <th>DoS</th>\n",
       "      <th>Path</th>\n",
       "      <th>Msg</th>\n",
       "    </tr>\n",
       "  </thead>\n",
       "  <tbody>\n",
       "    <tr>\n",
       "      <th>0</th>\n",
       "      <td>/wiki/Anlu</td>\n",
       "      <td>-1.0</td>\n",
       "      <td>['https://es.wikipedia.org/wiki/Anlu', 'https:...</td>\n",
       "      <td>NOK - looped at /wiki/Organizaci%C3%B3n_territ...</td>\n",
       "    </tr>\n",
       "    <tr>\n",
       "      <th>1</th>\n",
       "      <td>/wiki/Marcial_Souto</td>\n",
       "      <td>-1.0</td>\n",
       "      <td>['https://es.wikipedia.org/wiki/Marcial_Souto'...</td>\n",
       "      <td>NOK - looped at /wiki/Ciencia (link idx: 8; la...</td>\n",
       "    </tr>\n",
       "    <tr>\n",
       "      <th>2</th>\n",
       "      <td>/wiki/Fiordo_Kaiser_Franz_Joseph</td>\n",
       "      <td>-1.0</td>\n",
       "      <td>['https://es.wikipedia.org/wiki/Fiordo_Kaiser_...</td>\n",
       "      <td>NOK - short path at /wiki/Sistema (last idx: 9).</td>\n",
       "    </tr>\n",
       "    <tr>\n",
       "      <th>3</th>\n",
       "      <td>/wiki/Avenida_Ferrocarril_de_Occidente</td>\n",
       "      <td>-1.0</td>\n",
       "      <td>['https://es.wikipedia.org/wiki/Avenida_Ferroc...</td>\n",
       "      <td>NOK - short path at /wiki/Ciencias_formales (l...</td>\n",
       "    </tr>\n",
       "    <tr>\n",
       "      <th>4</th>\n",
       "      <td>/wiki/Wessington_Springs_(Dakota_del_Sur)</td>\n",
       "      <td>-1.0</td>\n",
       "      <td>['https://es.wikipedia.org/wiki/Wessington_Spr...</td>\n",
       "      <td>NOK - short path at /wiki/Ciencias_formales (l...</td>\n",
       "    </tr>\n",
       "  </tbody>\n",
       "</table>\n",
       "</div>"
      ],
      "text/plain": [
       "                                       Start  DoS  \\\n",
       "0                                 /wiki/Anlu -1.0   \n",
       "1                        /wiki/Marcial_Souto -1.0   \n",
       "2           /wiki/Fiordo_Kaiser_Franz_Joseph -1.0   \n",
       "3     /wiki/Avenida_Ferrocarril_de_Occidente -1.0   \n",
       "4  /wiki/Wessington_Springs_(Dakota_del_Sur) -1.0   \n",
       "\n",
       "                                                Path  \\\n",
       "0  ['https://es.wikipedia.org/wiki/Anlu', 'https:...   \n",
       "1  ['https://es.wikipedia.org/wiki/Marcial_Souto'...   \n",
       "2  ['https://es.wikipedia.org/wiki/Fiordo_Kaiser_...   \n",
       "3  ['https://es.wikipedia.org/wiki/Avenida_Ferroc...   \n",
       "4  ['https://es.wikipedia.org/wiki/Wessington_Spr...   \n",
       "\n",
       "                                                 Msg  \n",
       "0  NOK - looped at /wiki/Organizaci%C3%B3n_territ...  \n",
       "1  NOK - looped at /wiki/Ciencia (link idx: 8; la...  \n",
       "2   NOK - short path at /wiki/Sistema (last idx: 9).  \n",
       "3  NOK - short path at /wiki/Ciencias_formales (l...  \n",
       "4  NOK - short path at /wiki/Ciencias_formales (l...  "
      ]
     },
     "execution_count": 16,
     "metadata": {},
     "output_type": "execute_result"
    }
   ],
   "source": [
    "es = load_data('es_conso')\n",
    "es.head()"
   ]
  },
  {
   "cell_type": "markdown",
   "id": "a111a50d",
   "metadata": {},
   "source": [
    "# 3.1.b Get median and mean"
   ]
  },
  {
   "cell_type": "code",
   "execution_count": 18,
   "id": "81b8970e",
   "metadata": {},
   "outputs": [
    {
     "name": "stdout",
     "output_type": "stream",
     "text": [
      "Median: 8.0\n",
      "Mean: 6.957\n"
     ]
    },
    {
     "data": {
      "image/png": "[encoded data removed]",
      "text/plain": [
       "<Figure size 640x480 with 1 Axes>"
      ]
     },
     "metadata": {},
     "output_type": "display_data"
    }
   ],
   "source": [
    "\n",
    "plot_dos(es, get_median(es), get_mean(es))"
   ]
  },
  {
   "cell_type": "markdown",
   "id": "9d16b2f8",
   "metadata": {},
   "source": [
    "# 3.2 Estimate number of pages with DOS = 6"
   ]
  },
  {
   "cell_type": "code",
   "execution_count": 19,
   "id": "a48a7f91",
   "metadata": {},
   "outputs": [
    {
     "data": {
      "text/html": [
       "<div>\n",
       "<style scoped>\n",
       "    .dataframe tbody tr th:only-of-type {\n",
       "        vertical-align: middle;\n",
       "    }\n",
       "\n",
       "    .dataframe tbody tr th {\n",
       "        vertical-align: top;\n",
       "    }\n",
       "\n",
       "    .dataframe thead th {\n",
       "        text-align: right;\n",
       "    }\n",
       "</style>\n",
       "<table border=\"1\" class=\"dataframe\">\n",
       "  <thead>\n",
       "    <tr style=\"text-align: right;\">\n",
       "      <th></th>\n",
       "      <th>Start</th>\n",
       "      <th>DoS</th>\n",
       "      <th>Path</th>\n",
       "      <th>Msg</th>\n",
       "    </tr>\n",
       "  </thead>\n",
       "  <tbody>\n",
       "    <tr>\n",
       "      <th>208</th>\n",
       "      <td>/wiki/Tillandsia_%27Cotton_Candy%27</td>\n",
       "      <td>6.0</td>\n",
       "      <td>['https://es.wikipedia.org/wiki/Tillandsia_%27...</td>\n",
       "      <td>OK - normal path.</td>\n",
       "    </tr>\n",
       "    <tr>\n",
       "      <th>217</th>\n",
       "      <td>/wiki/Emilio_Ferrari</td>\n",
       "      <td>6.0</td>\n",
       "      <td>['https://es.wikipedia.org/wiki/Emilio_Ferrari...</td>\n",
       "      <td>OK - short path at /wiki/Arte (last idx: 4).</td>\n",
       "    </tr>\n",
       "    <tr>\n",
       "      <th>264</th>\n",
       "      <td>/wiki/Djonga</td>\n",
       "      <td>6.0</td>\n",
       "      <td>['https://es.wikipedia.org/wiki/Djonga', 'http...</td>\n",
       "      <td>OK - short path at /wiki/Arte (last idx: 4).</td>\n",
       "    </tr>\n",
       "    <tr>\n",
       "      <th>283</th>\n",
       "      <td>/wiki/Gira_Mi_Canci%C3%B3n</td>\n",
       "      <td>6.0</td>\n",
       "      <td>['https://es.wikipedia.org/wiki/Gira_Mi_Canci%...</td>\n",
       "      <td>OK - short path at /wiki/Arte (last idx: 4).</td>\n",
       "    </tr>\n",
       "    <tr>\n",
       "      <th>307</th>\n",
       "      <td>/wiki/Anexo:Temporada_2009_de_Turismo_Competic...</td>\n",
       "      <td>6.0</td>\n",
       "      <td>['https://es.wikipedia.org/wiki/Anexo:Temporad...</td>\n",
       "      <td>OK - normal path.</td>\n",
       "    </tr>\n",
       "    <tr>\n",
       "      <th>437</th>\n",
       "      <td>/wiki/Drew_Gulak</td>\n",
       "      <td>6.0</td>\n",
       "      <td>['https://es.wikipedia.org/wiki/Drew_Gulak', '...</td>\n",
       "      <td>OK - short path at /wiki/Deporte (last idx: 3).</td>\n",
       "    </tr>\n",
       "    <tr>\n",
       "      <th>525</th>\n",
       "      <td>/wiki/J%C3%A1nos_Zemen</td>\n",
       "      <td>6.0</td>\n",
       "      <td>['https://es.wikipedia.org/wiki/J%C3%A1nos_Zem...</td>\n",
       "      <td>OK - short path at /wiki/Atleta (last idx: 1).</td>\n",
       "    </tr>\n",
       "    <tr>\n",
       "      <th>547</th>\n",
       "      <td>/wiki/George_Murdoch_(luchador)</td>\n",
       "      <td>6.0</td>\n",
       "      <td>['https://es.wikipedia.org/wiki/George_Murdoch...</td>\n",
       "      <td>OK - short path at /wiki/Lucha_libre_profesion...</td>\n",
       "    </tr>\n",
       "    <tr>\n",
       "      <th>565</th>\n",
       "      <td>/wiki/M%C3%A9xico_en_los_Juegos_Ol%C3%ADmpicos...</td>\n",
       "      <td>6.0</td>\n",
       "      <td>['https://es.wikipedia.org/wiki/M%C3%A9xico_en...</td>\n",
       "      <td>OK - short path at /wiki/Juegos_Ol%C3%ADmpicos...</td>\n",
       "    </tr>\n",
       "    <tr>\n",
       "      <th>627</th>\n",
       "      <td>/wiki/Anexo:Gran_Premio_de_Italia_de_1977</td>\n",
       "      <td>6.0</td>\n",
       "      <td>['https://es.wikipedia.org/wiki/Anexo:Gran_Pre...</td>\n",
       "      <td>OK - short path at /wiki/Deporte (last idx: 3).</td>\n",
       "    </tr>\n",
       "    <tr>\n",
       "      <th>720</th>\n",
       "      <td>/wiki/Copa_Davis_2016</td>\n",
       "      <td>6.0</td>\n",
       "      <td>['https://es.wikipedia.org/wiki/Copa_Davis_201...</td>\n",
       "      <td>OK - short path at /wiki/Tenis (last idx: 2).</td>\n",
       "    </tr>\n",
       "    <tr>\n",
       "      <th>746</th>\n",
       "      <td>/wiki/Futsal_Rock_Cup_2017</td>\n",
       "      <td>6.0</td>\n",
       "      <td>['https://es.wikipedia.org/wiki/Futsal_Rock_Cu...</td>\n",
       "      <td>OK - short path at /wiki/Deporte (last idx: 3).</td>\n",
       "    </tr>\n",
       "    <tr>\n",
       "      <th>758</th>\n",
       "      <td>/wiki/Anexo:Masters_de_Canad%C3%A1_2003_(doble...</td>\n",
       "      <td>6.0</td>\n",
       "      <td>['https://es.wikipedia.org/wiki/Anexo:Masters_...</td>\n",
       "      <td>OK - short path at /wiki/Tenis (last idx: 2).</td>\n",
       "    </tr>\n",
       "    <tr>\n",
       "      <th>995</th>\n",
       "      <td>/wiki/Anexo:Lucha_en_los_Juegos_Europeos_de_Ba...</td>\n",
       "      <td>6.0</td>\n",
       "      <td>['https://es.wikipedia.org/wiki/Anexo:Lucha_en...</td>\n",
       "      <td>OK - short path at /wiki/Deporte (last idx: 3).</td>\n",
       "    </tr>\n",
       "  </tbody>\n",
       "</table>\n",
       "</div>"
      ],
      "text/plain": [
       "                                                 Start  DoS  \\\n",
       "208                /wiki/Tillandsia_%27Cotton_Candy%27  6.0   \n",
       "217                               /wiki/Emilio_Ferrari  6.0   \n",
       "264                                       /wiki/Djonga  6.0   \n",
       "283                         /wiki/Gira_Mi_Canci%C3%B3n  6.0   \n",
       "307  /wiki/Anexo:Temporada_2009_de_Turismo_Competic...  6.0   \n",
       "437                                   /wiki/Drew_Gulak  6.0   \n",
       "525                             /wiki/J%C3%A1nos_Zemen  6.0   \n",
       "547                    /wiki/George_Murdoch_(luchador)  6.0   \n",
       "565  /wiki/M%C3%A9xico_en_los_Juegos_Ol%C3%ADmpicos...  6.0   \n",
       "627          /wiki/Anexo:Gran_Premio_de_Italia_de_1977  6.0   \n",
       "720                              /wiki/Copa_Davis_2016  6.0   \n",
       "746                         /wiki/Futsal_Rock_Cup_2017  6.0   \n",
       "758  /wiki/Anexo:Masters_de_Canad%C3%A1_2003_(doble...  6.0   \n",
       "995  /wiki/Anexo:Lucha_en_los_Juegos_Europeos_de_Ba...  6.0   \n",
       "\n",
       "                                                  Path  \\\n",
       "208  ['https://es.wikipedia.org/wiki/Tillandsia_%27...   \n",
       "217  ['https://es.wikipedia.org/wiki/Emilio_Ferrari...   \n",
       "264  ['https://es.wikipedia.org/wiki/Djonga', 'http...   \n",
       "283  ['https://es.wikipedia.org/wiki/Gira_Mi_Canci%...   \n",
       "307  ['https://es.wikipedia.org/wiki/Anexo:Temporad...   \n",
       "437  ['https://es.wikipedia.org/wiki/Drew_Gulak', '...   \n",
       "525  ['https://es.wikipedia.org/wiki/J%C3%A1nos_Zem...   \n",
       "547  ['https://es.wikipedia.org/wiki/George_Murdoch...   \n",
       "565  ['https://es.wikipedia.org/wiki/M%C3%A9xico_en...   \n",
       "627  ['https://es.wikipedia.org/wiki/Anexo:Gran_Pre...   \n",
       "720  ['https://es.wikipedia.org/wiki/Copa_Davis_201...   \n",
       "746  ['https://es.wikipedia.org/wiki/Futsal_Rock_Cu...   \n",
       "758  ['https://es.wikipedia.org/wiki/Anexo:Masters_...   \n",
       "995  ['https://es.wikipedia.org/wiki/Anexo:Lucha_en...   \n",
       "\n",
       "                                                   Msg  \n",
       "208                                  OK - normal path.  \n",
       "217       OK - short path at /wiki/Arte (last idx: 4).  \n",
       "264       OK - short path at /wiki/Arte (last idx: 4).  \n",
       "283       OK - short path at /wiki/Arte (last idx: 4).  \n",
       "307                                  OK - normal path.  \n",
       "437    OK - short path at /wiki/Deporte (last idx: 3).  \n",
       "525     OK - short path at /wiki/Atleta (last idx: 1).  \n",
       "547  OK - short path at /wiki/Lucha_libre_profesion...  \n",
       "565  OK - short path at /wiki/Juegos_Ol%C3%ADmpicos...  \n",
       "627    OK - short path at /wiki/Deporte (last idx: 3).  \n",
       "720      OK - short path at /wiki/Tenis (last idx: 2).  \n",
       "746    OK - short path at /wiki/Deporte (last idx: 3).  \n",
       "758      OK - short path at /wiki/Tenis (last idx: 2).  \n",
       "995    OK - short path at /wiki/Deporte (last idx: 3).  "
      ]
     },
     "metadata": {},
     "output_type": "display_data"
    },
    {
     "name": "stdout",
     "output_type": "stream",
     "text": [
      "1.4% of our sample has DoS = 6.\n"
     ]
    }
   ],
   "source": [
    "display(get_percentage(es))\n",
    "pctes_dos6 = len(es.query('DoS == 6')) / len(es) * 100\n",
    "print(f\"{round(pctes_dos6, 2)}% of our sample has DoS = 6.\")"
   ]
  },
  {
   "cell_type": "markdown",
   "id": "f8de7c18",
   "metadata": {},
   "source": [
    "# 3.3.a Page visited most"
   ]
  },
  {
   "cell_type": "code",
   "execution_count": 49,
   "id": "76f5274c",
   "metadata": {},
   "outputs": [
    {
     "name": "stdout",
     "output_type": "stream",
     "text": [
      "Most common page visited: https://es.wikipedia.org/wiki/Especie\n"
     ]
    }
   ],
   "source": [
    "from itertools import chain\n",
    "from collections import Counter\n",
    "\n",
    "es_paths = list(chain.from_iterable(es['Path']))\n",
    "es_counts = Counter(es_paths)\n",
    "\n",
    "print(f'Most common page visited: {es_counts.most_common(1)[0][0]}')"
   ]
  },
  {
   "cell_type": "markdown",
   "id": "922eb9f7",
   "metadata": {},
   "source": [
    "# 3.3.b Does it loop more?"
   ]
  },
  {
   "cell_type": "code",
   "execution_count": 54,
   "id": "1caca096",
   "metadata": {},
   "outputs": [
    {
     "name": "stdout",
     "output_type": "stream",
     "text": [
      "EN Loop:35\n",
      "ES Loop:52\n"
     ]
    }
   ],
   "source": [
    "en_loop = en[en['Msg'].str.contains('looped')]\n",
    "print(f'EN Loop:{en_loop.shape[0]}')\n",
    "\n",
    "es_loop = es[es['Msg'].str.contains('looped')]\n",
    "print(f'ES Loop:{es_loop.shape[0]}')"
   ]
  },
  {
   "cell_type": "markdown",
   "id": "949a0d45",
   "metadata": {},
   "source": [
    "Yes, foreign language ES tends to loop more than EN when using our sample data as basis."
   ]
  }
 ],
 "metadata": {
  "kernelspec": {
   "display_name": "Python 3 (ipykernel)",
   "language": "python",
   "name": "python3"
  },
  "language_info": {
   "codemirror_mode": {
    "name": "ipython",
    "version": 3
   },
   "file_extension": ".py",
   "mimetype": "text/x-python",
   "name": "python",
   "nbconvert_exporter": "python",
   "pygments_lexer": "ipython3",
   "version": "3.12.1"
  }
 },
 "nbformat": 4,
 "nbformat_minor": 5
}
